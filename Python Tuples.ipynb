{
 "cells": [
  {
   "cell_type": "code",
   "execution_count": 1,
   "id": "069cf7cf-9853-4609-a903-9888101b8db4",
   "metadata": {},
   "outputs": [
    {
     "data": {
      "text/plain": [
       "tuple"
      ]
     },
     "execution_count": 1,
     "metadata": {},
     "output_type": "execute_result"
    }
   ],
   "source": [
    "veggies = ('tomato',)\n",
    "type (veggies)"
   ]
  },
  {
   "cell_type": "code",
   "execution_count": 11,
   "id": "ceff95ac-6365-4b41-a8ce-a2132f2aa0d0",
   "metadata": {},
   "outputs": [
    {
     "name": "stdout",
     "output_type": "stream",
     "text": [
      "Sorry, not found\n"
     ]
    }
   ],
   "source": [
    "veggies=('tomato','onion','potato')\n",
    "if 'Cauliflower' in veggies:\n",
    "    print('Cauliflower is found')\n",
    "else:\n",
    "    print('Sorry, not found')"
   ]
  },
  {
   "cell_type": "code",
   "execution_count": 13,
   "id": "e68851d3-85e3-415f-a441-c5df1b359b0d",
   "metadata": {},
   "outputs": [
    {
     "data": {
      "text/plain": [
       "('tomato', 'onion', 'potato')"
      ]
     },
     "execution_count": 13,
     "metadata": {},
     "output_type": "execute_result"
    }
   ],
   "source": [
    "veggies[0:4]"
   ]
  },
  {
   "cell_type": "code",
   "execution_count": 15,
   "id": "2f96bee4-f18c-4493-b352-8ebf9c7b7f9c",
   "metadata": {},
   "outputs": [
    {
     "data": {
      "text/plain": [
       "('tomato', 'onion', 'potato')"
      ]
     },
     "execution_count": 15,
     "metadata": {},
     "output_type": "execute_result"
    }
   ],
   "source": [
    "veggies[ :4]"
   ]
  },
  {
   "cell_type": "code",
   "execution_count": 17,
   "id": "883c83a3-cd10-4eba-9f74-7135b07aa794",
   "metadata": {},
   "outputs": [
    {
     "data": {
      "text/plain": [
       "('tomato', 'onion', 'potato')"
      ]
     },
     "execution_count": 17,
     "metadata": {},
     "output_type": "execute_result"
    }
   ],
   "source": [
    "veggies[0: ]"
   ]
  },
  {
   "cell_type": "code",
   "execution_count": 19,
   "id": "b8e04ea0-ccaa-4d99-93ce-60e2be279b24",
   "metadata": {},
   "outputs": [
    {
     "data": {
      "text/plain": [
       "('tomato', 'onion', 'potato')"
      ]
     },
     "execution_count": 19,
     "metadata": {},
     "output_type": "execute_result"
    }
   ],
   "source": [
    "veggies[ : ]"
   ]
  },
  {
   "cell_type": "code",
   "execution_count": 21,
   "id": "e53d1605-9741-4e89-ab65-de54a2566969",
   "metadata": {},
   "outputs": [],
   "source": [
    "x = (90,40,50,100)\n",
    "y=list(x)"
   ]
  },
  {
   "cell_type": "code",
   "execution_count": 23,
   "id": "f405a47d-b521-43e0-b594-afa54b56ba89",
   "metadata": {},
   "outputs": [
    {
     "data": {
      "text/plain": [
       "(90, 5, 50, 100)"
      ]
     },
     "execution_count": 23,
     "metadata": {},
     "output_type": "execute_result"
    }
   ],
   "source": [
    "y[1]=5\n",
    "x=tuple(y)\n",
    "x"
   ]
  },
  {
   "cell_type": "code",
   "execution_count": 25,
   "id": "00e1d20b-30f9-48f1-a575-20d7c0280adf",
   "metadata": {},
   "outputs": [
    {
     "name": "stdout",
     "output_type": "stream",
     "text": [
      "banana\n"
     ]
    }
   ],
   "source": [
    "fruits = ('apple','banana','kiwi','guava','melon')\n",
    "(red,yellow,*green) = fruits\n",
    "print(yellow)"
   ]
  },
  {
   "cell_type": "code",
   "execution_count": 27,
   "id": "97a66450-184a-4956-82f9-e17a4b90a9d1",
   "metadata": {},
   "outputs": [
    {
     "ename": "ValueError",
     "evalue": "too many values to unpack (expected 3)",
     "output_type": "error",
     "traceback": [
      "\u001b[1;31m---------------------------------------------------------------------------\u001b[0m",
      "\u001b[1;31mValueError\u001b[0m                                Traceback (most recent call last)",
      "Cell \u001b[1;32mIn[27], line 2\u001b[0m\n\u001b[0;32m      1\u001b[0m fruits \u001b[38;5;241m=\u001b[39m (\u001b[38;5;124m'\u001b[39m\u001b[38;5;124mapple\u001b[39m\u001b[38;5;124m'\u001b[39m,\u001b[38;5;124m'\u001b[39m\u001b[38;5;124mbanana\u001b[39m\u001b[38;5;124m'\u001b[39m,\u001b[38;5;124m'\u001b[39m\u001b[38;5;124mkiwi\u001b[39m\u001b[38;5;124m'\u001b[39m,\u001b[38;5;124m'\u001b[39m\u001b[38;5;124mguava\u001b[39m\u001b[38;5;124m'\u001b[39m,\u001b[38;5;124m'\u001b[39m\u001b[38;5;124mmelon\u001b[39m\u001b[38;5;124m'\u001b[39m)\n\u001b[1;32m----> 2\u001b[0m (red,yellow,green) \u001b[38;5;241m=\u001b[39m fruits\n\u001b[0;32m      3\u001b[0m \u001b[38;5;28mprint\u001b[39m(yellow)\n",
      "\u001b[1;31mValueError\u001b[0m: too many values to unpack (expected 3)"
     ]
    }
   ],
   "source": [
    "fruits = ('apple','banana','kiwi','guava','melon')\n",
    "(red,yellow,green) = fruits\n",
    "print(yellow)"
   ]
  },
  {
   "cell_type": "code",
   "execution_count": null,
   "id": "2e7cf618-264f-467f-9cbf-04b90afff7aa",
   "metadata": {},
   "outputs": [],
   "source": []
  }
 ],
 "metadata": {
  "kernelspec": {
   "display_name": "Python 3 (ipykernel)",
   "language": "python",
   "name": "python3"
  },
  "language_info": {
   "codemirror_mode": {
    "name": "ipython",
    "version": 3
   },
   "file_extension": ".py",
   "mimetype": "text/x-python",
   "name": "python",
   "nbconvert_exporter": "python",
   "pygments_lexer": "ipython3",
   "version": "3.12.7"
  }
 },
 "nbformat": 4,
 "nbformat_minor": 5
}
