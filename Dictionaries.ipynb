{
 "cells": [
  {
   "cell_type": "code",
   "execution_count": 3,
   "id": "d7ef6e54-731b-440c-af9c-41637721d275",
   "metadata": {},
   "outputs": [
    {
     "data": {
      "text/plain": [
       "{'fruits': 'banana', 'colour': 'yellow'}"
      ]
     },
     "execution_count": 3,
     "metadata": {},
     "output_type": "execute_result"
    }
   ],
   "source": [
    "mydict = {'fruits':'banana','colour':'yellow'}\n",
    "mydict"
   ]
  },
  {
   "cell_type": "code",
   "execution_count": 5,
   "id": "180208b1-87b2-4330-a3b3-071a278dbcdb",
   "metadata": {},
   "outputs": [
    {
     "data": {
      "text/plain": [
       "dict"
      ]
     },
     "execution_count": 5,
     "metadata": {},
     "output_type": "execute_result"
    }
   ],
   "source": [
    "type(mydict)"
   ]
  },
  {
   "cell_type": "code",
   "execution_count": 7,
   "id": "0865cde3-9194-45a1-95a9-a2ab232d76b2",
   "metadata": {},
   "outputs": [
    {
     "data": {
      "text/plain": [
       "2"
      ]
     },
     "execution_count": 7,
     "metadata": {},
     "output_type": "execute_result"
    }
   ],
   "source": [
    "len(mydict)"
   ]
  },
  {
   "cell_type": "code",
   "execution_count": 9,
   "id": "cba1c1aa-babf-471a-9b6d-75673cb3b12b",
   "metadata": {},
   "outputs": [
    {
     "data": {
      "text/plain": [
       "{'fruits': 'mango', 'colour': 'yellow'}"
      ]
     },
     "execution_count": 9,
     "metadata": {},
     "output_type": "execute_result"
    }
   ],
   "source": [
    "mydict = {'fruits':'mango','colour':'yellow'}\n",
    "mydict"
   ]
  },
  {
   "cell_type": "code",
   "execution_count": 11,
   "id": "3b11eadf-8033-4fca-b2b1-b85f97c1e92e",
   "metadata": {},
   "outputs": [
    {
     "data": {
      "text/plain": [
       "dict_items([('fruits', 'mango'), ('colour', 'yellow')])"
      ]
     },
     "execution_count": 11,
     "metadata": {},
     "output_type": "execute_result"
    }
   ],
   "source": [
    "mydict.items()"
   ]
  },
  {
   "cell_type": "code",
   "execution_count": 13,
   "id": "2f4fab77-fd1a-454b-86db-a4cafb398107",
   "metadata": {},
   "outputs": [],
   "source": [
    "mydict[\"fruits2\"] = \"n1\""
   ]
  },
  {
   "cell_type": "code",
   "execution_count": 15,
   "id": "aedce14a-36e1-4400-9270-11bee1de4435",
   "metadata": {},
   "outputs": [
    {
     "data": {
      "text/plain": [
       "{'fruits': 'mango', 'colour': 'yellow', 'fruits2': 'n1'}"
      ]
     },
     "execution_count": 15,
     "metadata": {},
     "output_type": "execute_result"
    }
   ],
   "source": [
    "mydict"
   ]
  },
  {
   "cell_type": "code",
   "execution_count": 23,
   "id": "b71be376-867a-42f7-8356-6aaf417ddf6b",
   "metadata": {},
   "outputs": [
    {
     "data": {
      "text/plain": [
       "{'car': 'lambo', 'colour': 'yellow', 'speed': 220, 'year': 2020}"
      ]
     },
     "execution_count": 23,
     "metadata": {},
     "output_type": "execute_result"
    }
   ],
   "source": [
    "mydict2={'car':'lambo','colour':'yellow','speed':220,'year':2020}\n",
    "mydict2"
   ]
  },
  {
   "cell_type": "code",
   "execution_count": 25,
   "id": "833e578f-4602-4509-bd5f-b260605d4e49",
   "metadata": {},
   "outputs": [
    {
     "data": {
      "text/plain": [
       "dict"
      ]
     },
     "execution_count": 25,
     "metadata": {},
     "output_type": "execute_result"
    }
   ],
   "source": [
    "type(mydict2)"
   ]
  },
  {
   "cell_type": "code",
   "execution_count": 27,
   "id": "13b3023f-5e8b-430e-a111-3108d8b585ed",
   "metadata": {},
   "outputs": [
    {
     "data": {
      "text/plain": [
       "4"
      ]
     },
     "execution_count": 27,
     "metadata": {},
     "output_type": "execute_result"
    }
   ],
   "source": [
    "len(mydict2)"
   ]
  },
  {
   "cell_type": "code",
   "execution_count": 29,
   "id": "bcca4570-c5ed-40db-a45c-77408026f68e",
   "metadata": {},
   "outputs": [],
   "source": [
    "mydict2['colour']='red'"
   ]
  },
  {
   "cell_type": "code",
   "execution_count": 31,
   "id": "1ca9f24a-cc46-424a-b43a-793a1189cbe5",
   "metadata": {},
   "outputs": [
    {
     "data": {
      "text/plain": [
       "{'car': 'lambo', 'colour': 'red', 'speed': 220, 'year': 2020}"
      ]
     },
     "execution_count": 31,
     "metadata": {},
     "output_type": "execute_result"
    }
   ],
   "source": [
    "mydict2"
   ]
  },
  {
   "cell_type": "code",
   "execution_count": 33,
   "id": "7fa03824-c14d-4459-b862-76017f8fc8a8",
   "metadata": {},
   "outputs": [
    {
     "data": {
      "text/plain": [
       "dict_items([('car', 'lambo'), ('colour', 'red'), ('speed', 220), ('year', 2020)])"
      ]
     },
     "execution_count": 33,
     "metadata": {},
     "output_type": "execute_result"
    }
   ],
   "source": [
    "mydict2.items()"
   ]
  },
  {
   "cell_type": "code",
   "execution_count": 35,
   "id": "658842b5-d324-47ee-ba2e-66e152331534",
   "metadata": {},
   "outputs": [
    {
     "data": {
      "text/plain": [
       "'lambo'"
      ]
     },
     "execution_count": 35,
     "metadata": {},
     "output_type": "execute_result"
    }
   ],
   "source": [
    "mydict2.pop(\"car\")"
   ]
  },
  {
   "cell_type": "code",
   "execution_count": 37,
   "id": "d7fe2456-e362-46d9-9683-7a84c929ad36",
   "metadata": {},
   "outputs": [
    {
     "data": {
      "text/plain": [
       "{'colour': 'red', 'speed': 220, 'year': 2020}"
      ]
     },
     "execution_count": 37,
     "metadata": {},
     "output_type": "execute_result"
    }
   ],
   "source": [
    "mydict2"
   ]
  },
  {
   "cell_type": "code",
   "execution_count": 39,
   "id": "89b3b8cf-67c8-4452-b5d7-c961620d7d4d",
   "metadata": {},
   "outputs": [
    {
     "data": {
      "text/plain": [
       "{'colour': 'red', 'speed': 220, 'year': 2020, 'model': 'top'}"
      ]
     },
     "execution_count": 39,
     "metadata": {},
     "output_type": "execute_result"
    }
   ],
   "source": [
    "mydict2['model'] = 'top'\n",
    "mydict2"
   ]
  },
  {
   "cell_type": "code",
   "execution_count": 41,
   "id": "0a82d698-63d7-40b1-86c7-2c943fa9054d",
   "metadata": {},
   "outputs": [
    {
     "data": {
      "text/plain": [
       "('model', 'top')"
      ]
     },
     "execution_count": 41,
     "metadata": {},
     "output_type": "execute_result"
    }
   ],
   "source": [
    "mydict2.popitem()"
   ]
  },
  {
   "cell_type": "code",
   "execution_count": 43,
   "id": "a3c9c05c-c05a-4d02-b25b-332601803755",
   "metadata": {},
   "outputs": [
    {
     "data": {
      "text/plain": [
       "{'colour': 'red', 'speed': 220, 'year': 2020}"
      ]
     },
     "execution_count": 43,
     "metadata": {},
     "output_type": "execute_result"
    }
   ],
   "source": [
    "mydict2"
   ]
  },
  {
   "cell_type": "code",
   "execution_count": 45,
   "id": "f9c44546-decf-4c9b-b1ba-6e7721339903",
   "metadata": {},
   "outputs": [
    {
     "data": {
      "text/plain": [
       "'red'"
      ]
     },
     "execution_count": 45,
     "metadata": {},
     "output_type": "execute_result"
    }
   ],
   "source": [
    "mydict2.pop(\"colour\")"
   ]
  },
  {
   "cell_type": "code",
   "execution_count": 47,
   "id": "9edc2235-becf-435f-858c-f48e28ec222e",
   "metadata": {},
   "outputs": [
    {
     "data": {
      "text/plain": [
       "{'speed': 220, 'year': 2020}"
      ]
     },
     "execution_count": 47,
     "metadata": {},
     "output_type": "execute_result"
    }
   ],
   "source": [
    "mydict2"
   ]
  },
  {
   "cell_type": "code",
   "execution_count": 49,
   "id": "83699331-8dd9-4a39-9b26-1e7adf3f0340",
   "metadata": {},
   "outputs": [
    {
     "data": {
      "text/plain": [
       "('year', 2020)"
      ]
     },
     "execution_count": 49,
     "metadata": {},
     "output_type": "execute_result"
    }
   ],
   "source": [
    "mydict2.popitem()"
   ]
  },
  {
   "cell_type": "code",
   "execution_count": 51,
   "id": "a2f62f5a-003b-4edd-a139-d18674795e6e",
   "metadata": {},
   "outputs": [],
   "source": [
    "mydict2.clear()"
   ]
  },
  {
   "cell_type": "code",
   "execution_count": 53,
   "id": "3d4aa70c-f7a9-4316-b650-671bc2c66910",
   "metadata": {},
   "outputs": [
    {
     "data": {
      "text/plain": [
       "{}"
      ]
     },
     "execution_count": 53,
     "metadata": {},
     "output_type": "execute_result"
    }
   ],
   "source": [
    "mydict2"
   ]
  },
  {
   "cell_type": "code",
   "execution_count": 55,
   "id": "8aab0151-1e3c-4927-8841-8973929892af",
   "metadata": {},
   "outputs": [
    {
     "data": {
      "text/plain": [
       "{'channel': 'op gamers', 'game': 'PUBG', 'views': 100, 'player': 'teamlead'}"
      ]
     },
     "execution_count": 55,
     "metadata": {},
     "output_type": "execute_result"
    }
   ],
   "source": [
    "mydict = {'channel':'op gamers','game':'PUBG', 'views':100,'player':'teamlead'}\n",
    "mydict"
   ]
  },
  {
   "cell_type": "code",
   "execution_count": 57,
   "id": "20ef67da-a123-4e9f-82d2-1b1ad8323e80",
   "metadata": {},
   "outputs": [
    {
     "name": "stdout",
     "output_type": "stream",
     "text": [
      "channel\n",
      "game\n",
      "views\n",
      "player\n"
     ]
    }
   ],
   "source": [
    "for i in mydict:\n",
    "    print(i)"
   ]
  },
  {
   "cell_type": "code",
   "execution_count": 59,
   "id": "d721aa14-8bf0-47fa-a812-ab66a4303259",
   "metadata": {},
   "outputs": [
    {
     "name": "stdout",
     "output_type": "stream",
     "text": [
      "op gamers\n",
      "PUBG\n",
      "100\n",
      "teamlead\n"
     ]
    }
   ],
   "source": [
    "for i in mydict:\n",
    "    print(mydict[i])"
   ]
  },
  {
   "cell_type": "code",
   "execution_count": 65,
   "id": "2a093b8f-5dbf-4854-af2a-dc78f0dd297d",
   "metadata": {},
   "outputs": [
    {
     "name": "stdout",
     "output_type": "stream",
     "text": [
      "channel op gamers\n",
      "game PUBG\n",
      "views 100\n",
      "player teamlead\n"
     ]
    }
   ],
   "source": [
    "for x,y in mydict.items():\n",
    "    print(x,y)"
   ]
  },
  {
   "cell_type": "code",
   "execution_count": 69,
   "id": "02b52f8f-e4e4-496f-8d5a-d77d0a3b8e84",
   "metadata": {},
   "outputs": [],
   "source": [
    "mydict3=mydict.copy()"
   ]
  },
  {
   "cell_type": "code",
   "execution_count": 71,
   "id": "73035cdb-3ea2-46da-8271-40da04a91543",
   "metadata": {},
   "outputs": [
    {
     "data": {
      "text/plain": [
       "{'channel': 'op gamers', 'game': 'PUBG', 'views': 100, 'player': 'teamlead'}"
      ]
     },
     "execution_count": 71,
     "metadata": {},
     "output_type": "execute_result"
    }
   ],
   "source": [
    "mydict3"
   ]
  },
  {
   "cell_type": "code",
   "execution_count": 73,
   "id": "8036bd8c-4082-44ec-99af-da8c658573e1",
   "metadata": {},
   "outputs": [],
   "source": [
    "myfamily = {\"child1\" : {\"name\":\"john\",\"year\":2001},\"child2\" : {\"name\":\"baby\",\"year\":2003},}"
   ]
  },
  {
   "cell_type": "code",
   "execution_count": 75,
   "id": "2f0a9eaf-2180-415a-a17d-5c91c752ec95",
   "metadata": {},
   "outputs": [
    {
     "data": {
      "text/plain": [
       "{'child1': {'name': 'john', 'year': 2001},\n",
       " 'child2': {'name': 'baby', 'year': 2003}}"
      ]
     },
     "execution_count": 75,
     "metadata": {},
     "output_type": "execute_result"
    }
   ],
   "source": [
    "myfamily"
   ]
  },
  {
   "cell_type": "code",
   "execution_count": 77,
   "id": "5d4e2f97-44c0-4e48-a1d9-1344497363ab",
   "metadata": {},
   "outputs": [
    {
     "data": {
      "text/plain": [
       "'baby'"
      ]
     },
     "execution_count": 77,
     "metadata": {},
     "output_type": "execute_result"
    }
   ],
   "source": [
    "myfamily['child2']['name']"
   ]
  },
  {
   "cell_type": "code",
   "execution_count": null,
   "id": "622cb35d-5b8f-47e0-8e44-8813de992a6c",
   "metadata": {},
   "outputs": [],
   "source": []
  },
  {
   "cell_type": "code",
   "execution_count": null,
   "id": "093a2c37-02ff-4aab-949f-0975dbbedb23",
   "metadata": {},
   "outputs": [],
   "source": []
  }
 ],
 "metadata": {
  "kernelspec": {
   "display_name": "Python 3 (ipykernel)",
   "language": "python",
   "name": "python3"
  },
  "language_info": {
   "codemirror_mode": {
    "name": "ipython",
    "version": 3
   },
   "file_extension": ".py",
   "mimetype": "text/x-python",
   "name": "python",
   "nbconvert_exporter": "python",
   "pygments_lexer": "ipython3",
   "version": "3.12.7"
  }
 },
 "nbformat": 4,
 "nbformat_minor": 5
}
