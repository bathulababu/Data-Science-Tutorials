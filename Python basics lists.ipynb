{
 "cells": [
  {
   "cell_type": "code",
   "execution_count": 1,
   "id": "974c101a-61e5-4420-86e3-6e9b97266485",
   "metadata": {},
   "outputs": [
    {
     "data": {
      "text/plain": [
       "40"
      ]
     },
     "execution_count": 1,
     "metadata": {},
     "output_type": "execute_result"
    }
   ],
   "source": [
    "marks = [10,20,30,40,50]\n",
    "marks[3]"
   ]
  },
  {
   "cell_type": "code",
   "execution_count": 3,
   "id": "9de747c3-8f2e-450a-ad46-28e51f439590",
   "metadata": {},
   "outputs": [
    {
     "data": {
      "text/plain": [
       "[10, 20, 30, 40, 50]"
      ]
     },
     "execution_count": 3,
     "metadata": {},
     "output_type": "execute_result"
    }
   ],
   "source": [
    "marks[:]"
   ]
  },
  {
   "cell_type": "code",
   "execution_count": 5,
   "id": "c606e67d-906e-484b-b9e1-a24bf787fdd4",
   "metadata": {},
   "outputs": [
    {
     "data": {
      "text/plain": [
       "5"
      ]
     },
     "execution_count": 5,
     "metadata": {},
     "output_type": "execute_result"
    }
   ],
   "source": [
    "len(marks)"
   ]
  },
  {
   "cell_type": "code",
   "execution_count": 7,
   "id": "6102e8e7-1dc5-40ad-b544-1d158398724b",
   "metadata": {},
   "outputs": [
    {
     "data": {
      "text/plain": [
       "list"
      ]
     },
     "execution_count": 7,
     "metadata": {},
     "output_type": "execute_result"
    }
   ],
   "source": [
    "type(marks)"
   ]
  },
  {
   "cell_type": "code",
   "execution_count": 9,
   "id": "e446014e-ea66-405f-995c-c7ef25273ef5",
   "metadata": {},
   "outputs": [
    {
     "name": "stdout",
     "output_type": "stream",
     "text": [
      "yes, 50 in the list\n"
     ]
    }
   ],
   "source": [
    "if 50 in marks:\n",
    "    print(\"yes, 50 in the list\")\n",
    "else:\n",
    "    print(\"sorry, not found\")"
   ]
  },
  {
   "cell_type": "code",
   "execution_count": 19,
   "id": "fa60874b-2971-48a2-9f52-95d7c8cb300b",
   "metadata": {},
   "outputs": [
    {
     "name": "stdout",
     "output_type": "stream",
     "text": [
      "10\n",
      "20\n",
      "30\n",
      "40\n",
      "50\n"
     ]
    }
   ],
   "source": [
    "for i in marks:\n",
    "    print(i)"
   ]
  },
  {
   "cell_type": "code",
   "execution_count": 21,
   "id": "193b6d41-aeb6-43eb-8135-c3d555c2fe85",
   "metadata": {},
   "outputs": [
    {
     "data": {
      "text/plain": [
       "[10, 91, 25, 45, 50]"
      ]
     },
     "execution_count": 21,
     "metadata": {},
     "output_type": "execute_result"
    }
   ],
   "source": [
    "marks[1:4] = [91,25,45]\n",
    "marks"
   ]
  },
  {
   "cell_type": "code",
   "execution_count": 23,
   "id": "85f5f189-22c2-4204-b30e-f12d99b2c83a",
   "metadata": {},
   "outputs": [
    {
     "ename": "IndexError",
     "evalue": "list assignment index out of range",
     "output_type": "error",
     "traceback": [
      "\u001b[1;31m---------------------------------------------------------------------------\u001b[0m",
      "\u001b[1;31mIndexError\u001b[0m                                Traceback (most recent call last)",
      "Cell \u001b[1;32mIn[23], line 1\u001b[0m\n\u001b[1;32m----> 1\u001b[0m \u001b[43mmarks\u001b[49m\u001b[43m[\u001b[49m\u001b[38;5;241;43m5\u001b[39;49m\u001b[43m]\u001b[49m \u001b[38;5;241m=\u001b[39m \u001b[38;5;241m89\u001b[39m\n\u001b[0;32m      2\u001b[0m marks\n",
      "\u001b[1;31mIndexError\u001b[0m: list assignment index out of range"
     ]
    }
   ],
   "source": [
    "marks[5] = 89\n",
    "marks"
   ]
  },
  {
   "cell_type": "code",
   "execution_count": 27,
   "id": "63f44765-3366-42c8-b973-9bfc034522d1",
   "metadata": {},
   "outputs": [
    {
     "data": {
      "text/plain": [
       "[10, 91, 100, 25, 45, 50]"
      ]
     },
     "execution_count": 27,
     "metadata": {},
     "output_type": "execute_result"
    }
   ],
   "source": [
    "marks.insert(2,100) #inserting 2nd index\n",
    "marks"
   ]
  },
  {
   "cell_type": "code",
   "execution_count": 29,
   "id": "07ba25e8-195f-4e73-88ab-83e4d2499906",
   "metadata": {},
   "outputs": [
    {
     "data": {
      "text/plain": [
       "[10, 91, 100, 25, 45, 50, 90]"
      ]
     },
     "execution_count": 29,
     "metadata": {},
     "output_type": "execute_result"
    }
   ],
   "source": [
    "marks.append(90) #adding into list\n",
    "marks"
   ]
  },
  {
   "cell_type": "code",
   "execution_count": 33,
   "id": "4fadd04f-660c-42d5-bbcc-b4f56be14dce",
   "metadata": {},
   "outputs": [
    {
     "data": {
      "text/plain": [
       "[91, 100]"
      ]
     },
     "execution_count": 33,
     "metadata": {},
     "output_type": "execute_result"
    }
   ],
   "source": [
    "marks[1:3]"
   ]
  },
  {
   "cell_type": "code",
   "execution_count": 35,
   "id": "9c682799-e4fc-444f-b373-eb347571afe2",
   "metadata": {},
   "outputs": [
    {
     "data": {
      "text/plain": [
       "[10, 92, 93, 94, 100, 25, 45, 50, 90]"
      ]
     },
     "execution_count": 35,
     "metadata": {},
     "output_type": "execute_result"
    }
   ],
   "source": [
    "marks[1:2] = [92,93,94]\n",
    "marks"
   ]
  },
  {
   "cell_type": "code",
   "execution_count": 37,
   "id": "d40d04bb-39ba-492e-9156-42a021ddf5ef",
   "metadata": {},
   "outputs": [],
   "source": [
    "mar=[12,3,4,5,78,90,87,67,54,343,123,908] #extending the list"
   ]
  },
  {
   "cell_type": "code",
   "execution_count": 43,
   "id": "181c9647-eac2-4737-ada5-ffb8f4ee2d3d",
   "metadata": {},
   "outputs": [
    {
     "data": {
      "text/plain": [
       "list"
      ]
     },
     "execution_count": 43,
     "metadata": {},
     "output_type": "execute_result"
    }
   ],
   "source": [
    "type(mar)"
   ]
  },
  {
   "cell_type": "code",
   "execution_count": 45,
   "id": "b7433c98-f669-4f9e-998f-f92bd45052f0",
   "metadata": {},
   "outputs": [],
   "source": [
    "veg = ['tomato','onions','chilly'] #adding elements of veg in fruits\n",
    "fruits = ['apple','banana','mango']\n",
    "veg.extend(fruits)"
   ]
  },
  {
   "cell_type": "code",
   "execution_count": 47,
   "id": "a0a400f5-6e4f-4cb3-b145-5c0bdaeabbd2",
   "metadata": {},
   "outputs": [
    {
     "data": {
      "text/plain": [
       "['tomato', 'onions', 'chilly', 'apple', 'banana', 'mango']"
      ]
     },
     "execution_count": 47,
     "metadata": {},
     "output_type": "execute_result"
    }
   ],
   "source": [
    "veg"
   ]
  },
  {
   "cell_type": "code",
   "execution_count": 49,
   "id": "4191daf9-4c82-432b-a036-6499c16cbfa4",
   "metadata": {},
   "outputs": [],
   "source": [
    "fruits.remove('mango')"
   ]
  },
  {
   "cell_type": "code",
   "execution_count": 51,
   "id": "1ae849b1-658f-4a97-80dd-412fa3737a94",
   "metadata": {},
   "outputs": [
    {
     "data": {
      "text/plain": [
       "['apple', 'banana']"
      ]
     },
     "execution_count": 51,
     "metadata": {},
     "output_type": "execute_result"
    }
   ],
   "source": [
    "fruits"
   ]
  },
  {
   "cell_type": "code",
   "execution_count": 53,
   "id": "82cd23c6-5333-411e-9c3e-535589c7f4e2",
   "metadata": {},
   "outputs": [
    {
     "data": {
      "text/plain": [
       "'banana'"
      ]
     },
     "execution_count": 53,
     "metadata": {},
     "output_type": "execute_result"
    }
   ],
   "source": [
    "fruits.pop(1)"
   ]
  },
  {
   "cell_type": "code",
   "execution_count": 55,
   "id": "45bfa182-3878-4d3b-ab1c-5c669f22f2ac",
   "metadata": {},
   "outputs": [],
   "source": [
    "del fruits"
   ]
  },
  {
   "cell_type": "code",
   "execution_count": 57,
   "id": "238fe0cb-39ce-45e0-aa76-ab29c4ff8f7a",
   "metadata": {},
   "outputs": [
    {
     "ename": "NameError",
     "evalue": "name 'fruits' is not defined",
     "output_type": "error",
     "traceback": [
      "\u001b[1;31m---------------------------------------------------------------------------\u001b[0m",
      "\u001b[1;31mNameError\u001b[0m                                 Traceback (most recent call last)",
      "Cell \u001b[1;32mIn[57], line 1\u001b[0m\n\u001b[1;32m----> 1\u001b[0m \u001b[43mfruits\u001b[49m\n",
      "\u001b[1;31mNameError\u001b[0m: name 'fruits' is not defined"
     ]
    }
   ],
   "source": [
    "fruits #deleted"
   ]
  },
  {
   "cell_type": "code",
   "execution_count": 59,
   "id": "2d31ddaa-c494-43d8-805c-ad78117b0df5",
   "metadata": {},
   "outputs": [
    {
     "name": "stdout",
     "output_type": "stream",
     "text": [
      "10\n",
      "92\n",
      "93\n",
      "94\n",
      "100\n",
      "25\n",
      "45\n",
      "50\n",
      "90\n"
     ]
    }
   ],
   "source": [
    "for i in marks:\n",
    "    print(i)"
   ]
  },
  {
   "cell_type": "code",
   "execution_count": null,
   "id": "7b866484-73ed-4ea7-b253-3734f00c9394",
   "metadata": {},
   "outputs": [],
   "source": []
  }
 ],
 "metadata": {
  "kernelspec": {
   "display_name": "Python 3 (ipykernel)",
   "language": "python",
   "name": "python3"
  },
  "language_info": {
   "codemirror_mode": {
    "name": "ipython",
    "version": 3
   },
   "file_extension": ".py",
   "mimetype": "text/x-python",
   "name": "python",
   "nbconvert_exporter": "python",
   "pygments_lexer": "ipython3",
   "version": "3.12.7"
  }
 },
 "nbformat": 4,
 "nbformat_minor": 5
}
