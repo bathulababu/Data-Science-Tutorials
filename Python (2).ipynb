{
  "nbformat": 4,
  "nbformat_minor": 0,
  "metadata": {
    "colab": {
      "provenance": []
    },
    "kernelspec": {
      "name": "python3",
      "display_name": "Python 3"
    },
    "language_info": {
      "name": "python"
    }
  },
  "cells": [
    {
      "cell_type": "code",
      "source": [
        "friends = [\"Alex\", \"Jhon\", \"Clex\", \"xmeana\"]\n",
        "for friend in friends:\n",
        "  print(\"Hi \" + friend)"
      ],
      "metadata": {
        "colab": {
          "base_uri": "https://localhost:8080/"
        },
        "id": "mU6rVzyOm2n5",
        "outputId": "6c812287-23c0-4d53-db13-cf9305b428a8"
      },
      "execution_count": null,
      "outputs": [
        {
          "output_type": "stream",
          "name": "stdout",
          "text": [
            "Hi Alex\n",
            "Hi Jhon\n",
            "Hi Clex\n",
            "Hi xmeana\n"
          ]
        }
      ]
    },
    {
      "cell_type": "code",
      "execution_count": null,
      "metadata": {
        "colab": {
          "base_uri": "https://localhost:8080/"
        },
        "id": "wxvNA3EtmUyQ",
        "outputId": "c31699ce-ba62-423e-a450-5408e9454519"
      },
      "outputs": [
        {
          "output_type": "stream",
          "name": "stdout",
          "text": [
            "Not there yet, x=0\n",
            "Not there yet, x=1\n",
            "Not there yet, x=2\n",
            "Not there yet, x=3\n",
            "Not there yet, x=4\n",
            "x=5\n"
          ]
        }
      ],
      "source": [
        "x = 0\n",
        "while x < 5:\n",
        "  print(\"Not there yet, x=\" + str(x))\n",
        "  x = x + 1\n",
        "print(\"x=\" + str(x))"
      ]
    },
    {
      "cell_type": "code",
      "source": [
        " def attempts(n):\n",
        "  x = 1\n",
        "  while x <= n:\n",
        "    print(\"Attempt \" + str(x))\n",
        "    x += 1\n",
        "  print(\"Done \" + str(x))\n",
        "\n",
        "attempts(5)"
      ],
      "metadata": {
        "colab": {
          "base_uri": "https://localhost:8080/"
        },
        "id": "gH3CY2UanlxO",
        "outputId": "a3d2d953-6f0f-4751-c4e5-b3886b912f39"
      },
      "execution_count": null,
      "outputs": [
        {
          "output_type": "stream",
          "name": "stdout",
          "text": [
            "Attempt 1\n",
            "Attempt 2\n",
            "Attempt 3\n",
            "Attempt 4\n",
            "Attempt 5\n",
            "Done 6\n"
          ]
        }
      ]
    },
    {
      "cell_type": "code",
      "source": [
        "my_variable = 5\n",
        "while my_variable < 10:\n",
        "  print(\"Hello\")\n",
        "  my_variable += 1"
      ],
      "metadata": {
        "colab": {
          "base_uri": "https://localhost:8080/"
        },
        "id": "v4eu2CR-qS9d",
        "outputId": "c939aa75-4b74-4fa5-adcb-d072ab088f10"
      },
      "execution_count": null,
      "outputs": [
        {
          "output_type": "stream",
          "name": "stdout",
          "text": [
            "Hello\n",
            "Hello\n",
            "Hello\n",
            "Hello\n",
            "Hello\n"
          ]
        }
      ]
    },
    {
      "cell_type": "code",
      "source": [
        "x = 0\n",
        "sum = 0\n",
        "while x < 10:\n",
        "  sum += x\n",
        "  x += 1\n",
        "print(sum)"
      ],
      "metadata": {
        "colab": {
          "base_uri": "https://localhost:8080/"
        },
        "id": "eJxyo9VLrneq",
        "outputId": "fd84ae09-539d-4736-dcc6-2eadac8860f5"
      },
      "execution_count": null,
      "outputs": [
        {
          "output_type": "stream",
          "name": "stdout",
          "text": [
            "45\n"
          ]
        }
      ]
    },
    {
      "cell_type": "code",
      "source": [
        "product = 1\n",
        "while x < 10:\n",
        "  product *= x\n",
        "  x += 1\n",
        "print(product)"
      ],
      "metadata": {
        "colab": {
          "base_uri": "https://localhost:8080/"
        },
        "id": "a6ajc4TVryr-",
        "outputId": "4894742c-2868-460b-9989-a8a85c6cb85b"
      },
      "execution_count": null,
      "outputs": [
        {
          "output_type": "stream",
          "name": "stdout",
          "text": [
            "1\n"
          ]
        }
      ]
    },
    {
      "cell_type": "code",
      "source": [
        "if x!= 0:\n",
        "  while x % 2 == 0:\n",
        "    x = x / 2"
      ],
      "metadata": {
        "id": "jiN6ZupbtCeG"
      },
      "execution_count": null,
      "outputs": []
    },
    {
      "cell_type": "code",
      "source": [
        "for x in range(5):\n",
        "  print(x)"
      ],
      "metadata": {
        "colab": {
          "base_uri": "https://localhost:8080/"
        },
        "id": "64DJepBWuBCc",
        "outputId": "297ccebf-eb84-40c2-e01f-1681149861f7"
      },
      "execution_count": null,
      "outputs": [
        {
          "output_type": "stream",
          "name": "stdout",
          "text": [
            "0\n",
            "1\n",
            "2\n",
            "3\n",
            "4\n"
          ]
        }
      ]
    },
    {
      "cell_type": "code",
      "source": [
        "values = [23, 52, 59, 37, 48]\n",
        "sum = 0\n",
        "length = 0\n",
        "for value in values:\n",
        "  sum += value\n",
        "  length += 1\n",
        "print(\"Total sum: \" + str(sum) + \" - Average: \" + str(sum/length))"
      ],
      "metadata": {
        "colab": {
          "base_uri": "https://localhost:8080/"
        },
        "id": "Ft50tBNTf0tk",
        "outputId": "d9ad92c3-09be-4049-e4ff-43429a81f4dd"
      },
      "execution_count": null,
      "outputs": [
        {
          "output_type": "stream",
          "name": "stdout",
          "text": [
            "Total sum: 219 - Average: 43.8\n"
          ]
        }
      ]
    },
    {
      "cell_type": "code",
      "source": [
        "product = 1\n",
        "for n in range(1, 10):\n",
        "  product *= n\n",
        "print(product)"
      ],
      "metadata": {
        "colab": {
          "base_uri": "https://localhost:8080/"
        },
        "id": "-Lkvo6XzijPg",
        "outputId": "3702ae56-dd48-47cb-fdec-2b9a9029007a"
      },
      "execution_count": null,
      "outputs": [
        {
          "output_type": "stream",
          "name": "stdout",
          "text": [
            "362880\n"
          ]
        }
      ]
    },
    {
      "cell_type": "code",
      "source": [
        "def to_celsius(x):\n",
        "  return (x-32)*5/9\n",
        "\n",
        "for x in range(0, 101, 10):\n",
        "  print(x, to_celsius(x))"
      ],
      "metadata": {
        "colab": {
          "base_uri": "https://localhost:8080/"
        },
        "id": "LzQdnuBhjF1v",
        "outputId": "0f28badb-d24b-489e-a0ad-1363a179cc60"
      },
      "execution_count": null,
      "outputs": [
        {
          "output_type": "stream",
          "name": "stdout",
          "text": [
            "0 -17.77777777777778\n",
            "10 -12.222222222222221\n",
            "20 -6.666666666666667\n",
            "30 -1.1111111111111112\n",
            "40 4.444444444444445\n",
            "50 10.0\n",
            "60 15.555555555555555\n",
            "70 21.11111111111111\n",
            "80 26.666666666666668\n",
            "90 32.22222222222222\n",
            "100 37.77777777777778\n"
          ]
        }
      ]
    },
    {
      "cell_type": "code",
      "source": [
        "for left in range(7):\n",
        "  for right in range(left, 7):\n",
        "    print(\"[\" + str(left) + \"|\" + str(right) + \"]\", end=\" \")\n",
        "  print()"
      ],
      "metadata": {
        "colab": {
          "base_uri": "https://localhost:8080/"
        },
        "id": "XXygCTbukc25",
        "outputId": "34a1ae6b-b7c5-45b2-ced7-cafa0ab24d77"
      },
      "execution_count": null,
      "outputs": [
        {
          "output_type": "stream",
          "name": "stdout",
          "text": [
            "[0|0] [0|1] [0|2] [0|3] [0|4] [0|5] [0|6] \n",
            "[1|1] [1|2] [1|3] [1|4] [1|5] [1|6] \n",
            "[2|2] [2|3] [2|4] [2|5] [2|6] \n",
            "[3|3] [3|4] [3|5] [3|6] \n",
            "[4|4] [4|5] [4|6] \n",
            "[5|5] [5|6] \n",
            "[6|6] \n"
          ]
        }
      ]
    },
    {
      "cell_type": "code",
      "source": [
        "teams = ['Dragons', 'Wolves', 'Pandas', 'Unicorns']\n",
        "for home_team in teams:\n",
        "  for away_team in teams:\n",
        "    if home_team != away_team:\n",
        "      print(home_team + \" vs \" + away_team)"
      ],
      "metadata": {
        "colab": {
          "base_uri": "https://localhost:8080/"
        },
        "id": "IjJO2H1SlJYL",
        "outputId": "061a9a68-942c-4407-caa5-2f7a071d09c8"
      },
      "execution_count": null,
      "outputs": [
        {
          "output_type": "stream",
          "name": "stdout",
          "text": [
            "Dragons vs Wolves\n",
            "Dragons vs Pandas\n",
            "Dragons vs Unicorns\n",
            "Wolves vs Dragons\n",
            "Wolves vs Pandas\n",
            "Wolves vs Unicorns\n",
            "Pandas vs Dragons\n",
            "Pandas vs Wolves\n",
            "Pandas vs Unicorns\n",
            "Unicorns vs Dragons\n",
            "Unicorns vs Wolves\n",
            "Unicorns vs Pandas\n"
          ]
        }
      ]
    },
    {
      "cell_type": "code",
      "source": [
        "for x in range(1, 11):\n",
        "  print(x, end=\" \")"
      ],
      "metadata": {
        "colab": {
          "base_uri": "https://localhost:8080/"
        },
        "id": "Dm7epxCPm7WD",
        "outputId": "660be4c0-ed08-4f98-b4ff-40d617d0648b"
      },
      "execution_count": null,
      "outputs": [
        {
          "output_type": "stream",
          "name": "stdout",
          "text": [
            "1 2 3 4 5 6 7 8 9 10 "
          ]
        }
      ]
    },
    {
      "cell_type": "code",
      "source": [
        "x = 1\n",
        "while x < 11:\n",
        "  print(x, end=\" \")\n",
        "  x += 1"
      ],
      "metadata": {
        "colab": {
          "base_uri": "https://localhost:8080/"
        },
        "id": "U1nwFhqInVrk",
        "outputId": "e03296bb-3b2d-49ac-db51-2efd440452c8"
      },
      "execution_count": null,
      "outputs": [
        {
          "output_type": "stream",
          "name": "stdout",
          "text": [
            "1 2 3 4 5 6 7 8 9 10 "
          ]
        }
      ]
    },
    {
      "cell_type": "code",
      "source": [
        "for x in [25]:\n",
        "  print(x)"
      ],
      "metadata": {
        "colab": {
          "base_uri": "https://localhost:8080/"
        },
        "id": "Of6TfbOln_Da",
        "outputId": "86ae57e8-1d7e-46ac-e90d-b60a068899fb"
      },
      "execution_count": null,
      "outputs": [
        {
          "output_type": "stream",
          "name": "stdout",
          "text": [
            "25\n"
          ]
        }
      ]
    },
    {
      "cell_type": "code",
      "source": [
        "def greet_friends(friends):\n",
        "  for friend in friends:\n",
        "    print(\"Hi \" + friend)\n",
        "\n",
        "greet_friends(['Taylor', 'Luisa', 'Jamaal', 'Eli'])\n",
        "greet_friends(\"Barry\")"
      ],
      "metadata": {
        "colab": {
          "base_uri": "https://localhost:8080/"
        },
        "id": "PJuMQ8bMoOPZ",
        "outputId": "2e42d70f-2141-4e39-f4cf-c665aea2f9c1"
      },
      "execution_count": null,
      "outputs": [
        {
          "output_type": "stream",
          "name": "stdout",
          "text": [
            "Hi Taylor\n",
            "Hi Luisa\n",
            "Hi Jamaal\n",
            "Hi Eli\n",
            "Hi B\n",
            "Hi a\n",
            "Hi r\n",
            "Hi r\n",
            "Hi y\n"
          ]
        }
      ]
    },
    {
      "cell_type": "code",
      "source": [
        "def factorial(n):\n",
        "  if n < 2:\n",
        "    return 1\n",
        "  return n * factorial(n-1)\n",
        "factorial(1)"
      ],
      "metadata": {
        "colab": {
          "base_uri": "https://localhost:8080/"
        },
        "id": "aHyhTDWnqJyP",
        "outputId": "f3bfd6ce-9a1e-48a8-f2c7-a89385cb6a5a"
      },
      "execution_count": null,
      "outputs": [
        {
          "output_type": "execute_result",
          "data": {
            "text/plain": [
              "1"
            ]
          },
          "metadata": {},
          "execution_count": 38
        }
      ]
    },
    {
      "cell_type": "code",
      "source": [
        "def factorial(n):\n",
        "  print(\"Factorial called with \" + str(n))\n",
        "  if n < 2:\n",
        "    print(\"Returning 1\")\n",
        "    return 1\n",
        "  result = n * factorial(n-1)\n",
        "  print(\"Returning \" + str(result) + \" for factorial of \" + str(n))\n",
        "  return result\n",
        "\n",
        "factorial(4)"
      ],
      "metadata": {
        "colab": {
          "base_uri": "https://localhost:8080/"
        },
        "id": "Cim9_t9_q3sI",
        "outputId": "a4eb60ec-d7df-42b9-d067-aee47764efd5"
      },
      "execution_count": null,
      "outputs": [
        {
          "output_type": "stream",
          "name": "stdout",
          "text": [
            "Factorial called with 4\n",
            "Factorial called with 3\n",
            "Factorial called with 2\n",
            "Factorial called with 1\n",
            "Returning 1\n",
            "Returning 2 for factorial of 2\n",
            "Returning 6 for factorial of 3\n",
            "Returning 24 for factorial of 4\n"
          ]
        },
        {
          "output_type": "execute_result",
          "data": {
            "text/plain": [
              "24"
            ]
          },
          "metadata": {},
          "execution_count": 40
        }
      ]
    },
    {
      "cell_type": "code",
      "source": [
        "def factorial(n):\n",
        "  if n < 2:\n",
        "    return 1\n",
        "  return n * factorial(n-1)\n",
        "factorial(1000)"
      ],
      "metadata": {
        "colab": {
          "base_uri": "https://localhost:8080/",
          "height": 339
        },
        "id": "eSp157sLso_z",
        "outputId": "06435876-6f29-4a12-9dfa-444914be0312"
      },
      "execution_count": null,
      "outputs": [
        {
          "output_type": "error",
          "ename": "RecursionError",
          "evalue": "maximum recursion depth exceeded",
          "traceback": [
            "\u001b[0;31m---------------------------------------------------------------------------\u001b[0m",
            "\u001b[0;31mRecursionError\u001b[0m                            Traceback (most recent call last)",
            "\u001b[0;32m/tmp/ipython-input-43-3254065351.py\u001b[0m in \u001b[0;36m<cell line: 0>\u001b[0;34m()\u001b[0m\n\u001b[1;32m      3\u001b[0m     \u001b[0;32mreturn\u001b[0m \u001b[0;36m1\u001b[0m\u001b[0;34m\u001b[0m\u001b[0;34m\u001b[0m\u001b[0m\n\u001b[1;32m      4\u001b[0m   \u001b[0;32mreturn\u001b[0m \u001b[0mn\u001b[0m \u001b[0;34m*\u001b[0m \u001b[0mfactorial\u001b[0m\u001b[0;34m(\u001b[0m\u001b[0mn\u001b[0m\u001b[0;34m-\u001b[0m\u001b[0;36m1\u001b[0m\u001b[0;34m)\u001b[0m\u001b[0;34m\u001b[0m\u001b[0;34m\u001b[0m\u001b[0m\n\u001b[0;32m----> 5\u001b[0;31m \u001b[0mfactorial\u001b[0m\u001b[0;34m(\u001b[0m\u001b[0;36m1000\u001b[0m\u001b[0;34m)\u001b[0m\u001b[0;34m\u001b[0m\u001b[0;34m\u001b[0m\u001b[0m\n\u001b[0m",
            "\u001b[0;32m/tmp/ipython-input-43-3254065351.py\u001b[0m in \u001b[0;36mfactorial\u001b[0;34m(n)\u001b[0m\n\u001b[1;32m      2\u001b[0m   \u001b[0;32mif\u001b[0m \u001b[0mn\u001b[0m \u001b[0;34m<\u001b[0m \u001b[0;36m2\u001b[0m\u001b[0;34m:\u001b[0m\u001b[0;34m\u001b[0m\u001b[0;34m\u001b[0m\u001b[0m\n\u001b[1;32m      3\u001b[0m     \u001b[0;32mreturn\u001b[0m \u001b[0;36m1\u001b[0m\u001b[0;34m\u001b[0m\u001b[0;34m\u001b[0m\u001b[0m\n\u001b[0;32m----> 4\u001b[0;31m   \u001b[0;32mreturn\u001b[0m \u001b[0mn\u001b[0m \u001b[0;34m*\u001b[0m \u001b[0mfactorial\u001b[0m\u001b[0;34m(\u001b[0m\u001b[0mn\u001b[0m\u001b[0;34m-\u001b[0m\u001b[0;36m1\u001b[0m\u001b[0;34m)\u001b[0m\u001b[0;34m\u001b[0m\u001b[0;34m\u001b[0m\u001b[0m\n\u001b[0m\u001b[1;32m      5\u001b[0m \u001b[0mfactorial\u001b[0m\u001b[0;34m(\u001b[0m\u001b[0;36m1000\u001b[0m\u001b[0;34m)\u001b[0m\u001b[0;34m\u001b[0m\u001b[0;34m\u001b[0m\u001b[0m\n",
            "... last 1 frames repeated, from the frame below ...\n",
            "\u001b[0;32m/tmp/ipython-input-43-3254065351.py\u001b[0m in \u001b[0;36mfactorial\u001b[0;34m(n)\u001b[0m\n\u001b[1;32m      2\u001b[0m   \u001b[0;32mif\u001b[0m \u001b[0mn\u001b[0m \u001b[0;34m<\u001b[0m \u001b[0;36m2\u001b[0m\u001b[0;34m:\u001b[0m\u001b[0;34m\u001b[0m\u001b[0;34m\u001b[0m\u001b[0m\n\u001b[1;32m      3\u001b[0m     \u001b[0;32mreturn\u001b[0m \u001b[0;36m1\u001b[0m\u001b[0;34m\u001b[0m\u001b[0;34m\u001b[0m\u001b[0m\n\u001b[0;32m----> 4\u001b[0;31m   \u001b[0;32mreturn\u001b[0m \u001b[0mn\u001b[0m \u001b[0;34m*\u001b[0m \u001b[0mfactorial\u001b[0m\u001b[0;34m(\u001b[0m\u001b[0mn\u001b[0m\u001b[0;34m-\u001b[0m\u001b[0;36m1\u001b[0m\u001b[0;34m)\u001b[0m\u001b[0;34m\u001b[0m\u001b[0;34m\u001b[0m\u001b[0m\n\u001b[0m\u001b[1;32m      5\u001b[0m \u001b[0mfactorial\u001b[0m\u001b[0;34m(\u001b[0m\u001b[0;36m1000\u001b[0m\u001b[0;34m)\u001b[0m\u001b[0;34m\u001b[0m\u001b[0;34m\u001b[0m\u001b[0m\n",
            "\u001b[0;31mRecursionError\u001b[0m: maximum recursion depth exceeded"
          ]
        }
      ]
    },
    {
      "cell_type": "code",
      "source": [
        "result = 0\n",
        "for i in range(5):\n",
        "  result += 2 * i\n",
        "print(result)"
      ],
      "metadata": {
        "colab": {
          "base_uri": "https://localhost:8080/"
        },
        "id": "ix6uD3pFJe8C",
        "outputId": "f81af2ff-1dff-41e7-b052-1db2722cb2cb"
      },
      "execution_count": null,
      "outputs": [
        {
          "output_type": "stream",
          "name": "stdout",
          "text": [
            "20\n"
          ]
        }
      ]
    },
    {
      "cell_type": "code",
      "source": [
        "print(7+8)\n",
        "print(\"hello \" + \"world\")\n",
        "print(7+8.5)\n",
        "print(7 + \"8\")"
      ],
      "metadata": {
        "colab": {
          "base_uri": "https://localhost:8080/",
          "height": 228
        },
        "id": "KFB3Eh17PYBI",
        "outputId": "dcc18c1e-5bf6-4748-eb21-e79d5ef244ca"
      },
      "execution_count": null,
      "outputs": [
        {
          "output_type": "stream",
          "name": "stdout",
          "text": [
            "15\n",
            "hello world\n",
            "15.5\n"
          ]
        },
        {
          "output_type": "error",
          "ename": "TypeError",
          "evalue": "unsupported operand type(s) for +: 'int' and 'str'",
          "traceback": [
            "\u001b[0;31m---------------------------------------------------------------------------\u001b[0m",
            "\u001b[0;31mTypeError\u001b[0m                                 Traceback (most recent call last)",
            "\u001b[0;32m/tmp/ipython-input-17-585418123.py\u001b[0m in \u001b[0;36m<cell line: 0>\u001b[0;34m()\u001b[0m\n\u001b[1;32m      2\u001b[0m \u001b[0mprint\u001b[0m\u001b[0;34m(\u001b[0m\u001b[0;34m\"hello \"\u001b[0m \u001b[0;34m+\u001b[0m \u001b[0;34m\"world\"\u001b[0m\u001b[0;34m)\u001b[0m\u001b[0;34m\u001b[0m\u001b[0;34m\u001b[0m\u001b[0m\n\u001b[1;32m      3\u001b[0m \u001b[0mprint\u001b[0m\u001b[0;34m(\u001b[0m\u001b[0;36m7\u001b[0m\u001b[0;34m+\u001b[0m\u001b[0;36m8.5\u001b[0m\u001b[0;34m)\u001b[0m\u001b[0;34m\u001b[0m\u001b[0;34m\u001b[0m\u001b[0m\n\u001b[0;32m----> 4\u001b[0;31m \u001b[0mprint\u001b[0m\u001b[0;34m(\u001b[0m\u001b[0;36m7\u001b[0m \u001b[0;34m+\u001b[0m \u001b[0;34m\"8\"\u001b[0m\u001b[0;34m)\u001b[0m\u001b[0;34m\u001b[0m\u001b[0;34m\u001b[0m\u001b[0m\n\u001b[0m",
            "\u001b[0;31mTypeError\u001b[0m: unsupported operand type(s) for +: 'int' and 'str'"
          ]
        }
      ]
    },
    {
      "cell_type": "code",
      "source": [
        "print(type(\"a\"))\n",
        "print(type(2))\n",
        "print(type(2.5))\n",
        "print(type(True))"
      ],
      "metadata": {
        "colab": {
          "base_uri": "https://localhost:8080/"
        },
        "id": "xPmPcHxwRYJg",
        "outputId": "fc86909c-3044-4ce6-eb73-30a3b214bde2"
      },
      "execution_count": null,
      "outputs": [
        {
          "output_type": "stream",
          "name": "stdout",
          "text": [
            "<class 'str'>\n",
            "<class 'int'>\n",
            "<class 'float'>\n",
            "<class 'bool'>\n"
          ]
        }
      ]
    },
    {
      "cell_type": "code",
      "source": [
        "length = 10\n",
        "width = 2\n",
        "area = length * width\n",
        "print(area)"
      ],
      "metadata": {
        "colab": {
          "base_uri": "https://localhost:8080/"
        },
        "id": "Rck6XjriTglb",
        "outputId": "67b2273c-5dfa-4ef4-a534-6032be242940"
      },
      "execution_count": null,
      "outputs": [
        {
          "output_type": "stream",
          "name": "stdout",
          "text": [
            "20\n"
          ]
        }
      ]
    },
    {
      "cell_type": "code",
      "source": [
        "print(\"a\" + \"b\" + \"c\")\n",
        "print(\"This \" + \"is \" + \"Pretty \" + \"neat!\")"
      ],
      "metadata": {
        "colab": {
          "base_uri": "https://localhost:8080/"
        },
        "id": "72vt0veRo0i2",
        "outputId": "9c6f1d6c-70c3-4081-a4b2-d8ba155698c8"
      },
      "execution_count": null,
      "outputs": [
        {
          "output_type": "stream",
          "name": "stdout",
          "text": [
            "abc\n",
            "This is Pretty neat!\n"
          ]
        }
      ]
    },
    {
      "cell_type": "code",
      "source": [
        "base = 6\n",
        "height = 3\n",
        "area = (base * height) / 2\n",
        "print(\"The area of the triangle is: \" + str(area))"
      ],
      "metadata": {
        "colab": {
          "base_uri": "https://localhost:8080/"
        },
        "id": "WYoDsl29pP7B",
        "outputId": "69f34b10-1c4f-4610-9d3b-016b2a6a1f19"
      },
      "execution_count": null,
      "outputs": [
        {
          "output_type": "stream",
          "name": "stdout",
          "text": [
            "The area of the triangle is: 9.0\n"
          ]
        }
      ]
    },
    {
      "cell_type": "code",
      "source": [
        "def greeting(name):\n",
        "  print(\"Welcome, \" + name)\n",
        "\n",
        "greeting(\"naveen\")\n",
        "greeting(\"Jhon\")"
      ],
      "metadata": {
        "colab": {
          "base_uri": "https://localhost:8080/"
        },
        "id": "EMyWynC_pxk4",
        "outputId": "5253daaf-85c8-4fee-815a-170740a5c28a"
      },
      "execution_count": null,
      "outputs": [
        {
          "output_type": "stream",
          "name": "stdout",
          "text": [
            "Welcome, naveen\n",
            "Welcome, Jhon\n"
          ]
        }
      ]
    },
    {
      "cell_type": "code",
      "source": [
        "def greeting(name, department):\n",
        "  print(\"Welcome, \" + name)\n",
        "  print(\"You are part of \" + department)\n",
        "\n",
        "greeting(\"Jhon\", \"IT Support\")\n",
        "greeting(\"alex\", \"Software Development\")"
      ],
      "metadata": {
        "colab": {
          "base_uri": "https://localhost:8080/"
        },
        "id": "r7ZQT4kzqbGa",
        "outputId": "24b372d7-b8cb-4542-c9d7-f2dab170aef0"
      },
      "execution_count": null,
      "outputs": [
        {
          "output_type": "stream",
          "name": "stdout",
          "text": [
            "Welcome, Jhon\n",
            "You are part of IT Support\n",
            "Welcome, alex\n",
            "You are part of Software Development\n"
          ]
        }
      ]
    },
    {
      "cell_type": "code",
      "source": [
        "def area_triangle(base, height):\n",
        "  return base*height/2\n",
        "\n",
        "area_a = area_triangle(5,4)\n",
        "area_b = area_triangle(7,3)\n",
        "sum = area_a + area_b\n",
        "print(\"The sum of both areas is: \" + str(sum))"
      ],
      "metadata": {
        "colab": {
          "base_uri": "https://localhost:8080/"
        },
        "id": "806kdae8q_KK",
        "outputId": "517da722-5707-464e-baa3-fbf635e7011b"
      },
      "execution_count": null,
      "outputs": [
        {
          "output_type": "stream",
          "name": "stdout",
          "text": [
            "The sum of both areas is: 20.5\n"
          ]
        }
      ]
    },
    {
      "cell_type": "code",
      "source": [
        "def convert_seconds(seconds):\n",
        "  hours = seconds // 3600\n",
        "  minutes = (seconds - hours * 3600) // 60\n",
        "  remaining_seconds = seconds - hours * 3600 - minutes * 60\n",
        "  return hours, minutes, remaining_seconds\n",
        "\n",
        "hours, minutes, seconds = convert_seconds(5000)\n",
        "print(hours, minutes, seconds)"
      ],
      "metadata": {
        "colab": {
          "base_uri": "https://localhost:8080/"
        },
        "id": "0iUVkuaesTiw",
        "outputId": "5b6136a2-f42c-4781-eaa0-19701c93b718"
      },
      "execution_count": null,
      "outputs": [
        {
          "output_type": "stream",
          "name": "stdout",
          "text": [
            "1 23 20\n"
          ]
        }
      ]
    },
    {
      "cell_type": "code",
      "source": [
        "def greeting(name):\n",
        "  print(\"Welcome, \" + name)\n",
        "\n",
        "result = greeting(\"Jhon\")\n",
        "print(result)"
      ],
      "metadata": {
        "colab": {
          "base_uri": "https://localhost:8080/"
        },
        "id": "EZgibgxlulre",
        "outputId": "e079d611-b23e-4166-da2e-e69bc3caa701"
      },
      "execution_count": null,
      "outputs": [
        {
          "output_type": "stream",
          "name": "stdout",
          "text": [
            "Welcome, Jhon\n",
            "None\n"
          ]
        }
      ]
    },
    {
      "cell_type": "code",
      "source": [
        "name = \"kay\"\n",
        "number = len(name) * 9\n",
        "\n",
        "print(\"Hello \" + name + \". Your lucky number is \" + str(number))\n",
        "\n",
        "name = \"Cameron\"\n",
        "number = len(name) * 9\n",
        "\n",
        "print(\"Hello \" + name + \". Your lucky number is \" + str(number))"
      ],
      "metadata": {
        "colab": {
          "base_uri": "https://localhost:8080/"
        },
        "id": "EklTS7yuvR5m",
        "outputId": "5c77a79a-96a5-4fd1-ef56-c20fe625bdaa"
      },
      "execution_count": null,
      "outputs": [
        {
          "output_type": "stream",
          "name": "stdout",
          "text": [
            "Hello kay. Your lucky number is 27\n",
            "Hello Cameron. Your lucky number is 63\n"
          ]
        }
      ]
    },
    {
      "cell_type": "code",
      "source": [
        "def lucky_number(name):\n",
        "  number = len(name) * 9\n",
        "  print(\"Hello \" + name + \". Your lucky number is \" + str(number))\n",
        "\n",
        "lucky_number(\"Kay\")\n",
        "lucky_number(\"Cameron\")"
      ],
      "metadata": {
        "colab": {
          "base_uri": "https://localhost:8080/"
        },
        "id": "F5UbfLkOwDlH",
        "outputId": "86fb0275-5b20-44e5-8d12-6b342fe1eb41"
      },
      "execution_count": null,
      "outputs": [
        {
          "output_type": "stream",
          "name": "stdout",
          "text": [
            "Hello Kay. Your lucky number is 27\n",
            "Hello Cameron. Your lucky number is 63\n"
          ]
        }
      ]
    },
    {
      "cell_type": "code",
      "source": [
        "def calculate(d):\n",
        "  q = 3.14\n",
        "  z = q * (d ** 2)\n",
        "  print(z)\n",
        "\n",
        "calculate(5)"
      ],
      "metadata": {
        "colab": {
          "base_uri": "https://localhost:8080/"
        },
        "id": "FIbXgptzwoDM",
        "outputId": "803206d7-8a18-4ed4-f1c5-743b1f2575a5"
      },
      "execution_count": null,
      "outputs": [
        {
          "output_type": "stream",
          "name": "stdout",
          "text": [
            "78.5\n"
          ]
        }
      ]
    },
    {
      "cell_type": "code",
      "source": [
        "def circle_area(radius):\n",
        "  pi = 3.14\n",
        "  area = pi * (radius ** 2)\n",
        "  print(area)\n",
        "\n",
        "circle_area(5)"
      ],
      "metadata": {
        "colab": {
          "base_uri": "https://localhost:8080/"
        },
        "id": "DBGUZ4kQxymp",
        "outputId": "9117a36e-6970-4642-b494-293fab00b076"
      },
      "execution_count": null,
      "outputs": [
        {
          "output_type": "stream",
          "name": "stdout",
          "text": [
            "78.5\n"
          ]
        }
      ]
    },
    {
      "cell_type": "code",
      "source": [
        "print(10 > 1)\n",
        "print(\"cat\" == \"dog\")\n",
        "print(1 != 2)\n",
        "print( 1 == \"1\")\n",
        "print(1 < \"2\")"
      ],
      "metadata": {
        "colab": {
          "base_uri": "https://localhost:8080/",
          "height": 245
        },
        "id": "QYh-hZ0JynYt",
        "outputId": "68c17ea6-fe9b-42f5-a2f6-68ea047a0363"
      },
      "execution_count": null,
      "outputs": [
        {
          "output_type": "stream",
          "name": "stdout",
          "text": [
            "True\n",
            "False\n",
            "True\n",
            "False\n"
          ]
        },
        {
          "output_type": "error",
          "ename": "TypeError",
          "evalue": "'<' not supported between instances of 'int' and 'str'",
          "traceback": [
            "\u001b[0;31m---------------------------------------------------------------------------\u001b[0m",
            "\u001b[0;31mTypeError\u001b[0m                                 Traceback (most recent call last)",
            "\u001b[0;32m/tmp/ipython-input-38-1542893090.py\u001b[0m in \u001b[0;36m<cell line: 0>\u001b[0;34m()\u001b[0m\n\u001b[1;32m      3\u001b[0m \u001b[0mprint\u001b[0m\u001b[0;34m(\u001b[0m\u001b[0;36m1\u001b[0m \u001b[0;34m!=\u001b[0m \u001b[0;36m2\u001b[0m\u001b[0;34m)\u001b[0m\u001b[0;34m\u001b[0m\u001b[0;34m\u001b[0m\u001b[0m\n\u001b[1;32m      4\u001b[0m \u001b[0mprint\u001b[0m\u001b[0;34m(\u001b[0m \u001b[0;36m1\u001b[0m \u001b[0;34m==\u001b[0m \u001b[0;34m\"1\"\u001b[0m\u001b[0;34m)\u001b[0m\u001b[0;34m\u001b[0m\u001b[0;34m\u001b[0m\u001b[0m\n\u001b[0;32m----> 5\u001b[0;31m \u001b[0mprint\u001b[0m\u001b[0;34m(\u001b[0m\u001b[0;36m1\u001b[0m \u001b[0;34m<\u001b[0m \u001b[0;34m\"2\"\u001b[0m\u001b[0;34m)\u001b[0m\u001b[0;34m\u001b[0m\u001b[0;34m\u001b[0m\u001b[0m\n\u001b[0m",
            "\u001b[0;31mTypeError\u001b[0m: '<' not supported between instances of 'int' and 'str'"
          ]
        }
      ]
    },
    {
      "cell_type": "code",
      "source": [
        "print(\"Yellow\" > \"Cyan\" and \"Brown\" > \"Magenta\")"
      ],
      "metadata": {
        "colab": {
          "base_uri": "https://localhost:8080/"
        },
        "id": "KhnYIJxr0sUN",
        "outputId": "c5aebae5-af56-42d3-e036-0e04aba1024c"
      },
      "execution_count": null,
      "outputs": [
        {
          "output_type": "stream",
          "name": "stdout",
          "text": [
            "False\n"
          ]
        }
      ]
    },
    {
      "cell_type": "code",
      "source": [
        "print(25 > 50 or 1 != 2)"
      ],
      "metadata": {
        "colab": {
          "base_uri": "https://localhost:8080/"
        },
        "id": "3FEuJlB51Wos",
        "outputId": "af293dfb-5485-42d2-8da2-69bcb5c434b0"
      },
      "execution_count": null,
      "outputs": [
        {
          "output_type": "stream",
          "name": "stdout",
          "text": [
            "True\n"
          ]
        }
      ]
    },
    {
      "cell_type": "code",
      "source": [
        "print(not 42 == \"Answer\")"
      ],
      "metadata": {
        "colab": {
          "base_uri": "https://localhost:8080/"
        },
        "id": "wlZyWBPh15uw",
        "outputId": "206103e5-c2c2-48c8-de69-def8b2eda95c"
      },
      "execution_count": null,
      "outputs": [
        {
          "output_type": "stream",
          "name": "stdout",
          "text": [
            "True\n"
          ]
        }
      ]
    },
    {
      "cell_type": "code",
      "source": [
        "def hint_username(username):\n",
        "  if len(username) < 3:\n",
        "    print(\"Invalid username. Must be at least 3 characters long\")\n",
        "  else:\n",
        "    print(\"Valid username\")\n",
        "hint_username(\"naveen\")\n",
        "hint_username(\"aa\")"
      ],
      "metadata": {
        "colab": {
          "base_uri": "https://localhost:8080/"
        },
        "id": "V9At4wia2qfN",
        "outputId": "7f3cb03f-14fa-4ab3-eca0-048ad64d2207"
      },
      "execution_count": null,
      "outputs": [
        {
          "output_type": "stream",
          "name": "stdout",
          "text": [
            "Valid username\n",
            "Invalid username. Must be at least 3 characters long\n"
          ]
        }
      ]
    },
    {
      "cell_type": "code",
      "source": [
        "def is_even(number):\n",
        "  if number % 2 == 0:\n",
        "    return True\n",
        "  return False\n",
        "is_even(6)"
      ],
      "metadata": {
        "colab": {
          "base_uri": "https://localhost:8080/"
        },
        "id": "CGR8jYYM4I1N",
        "outputId": "44190942-af19-4c36-9655-d09a4cc2026b"
      },
      "execution_count": null,
      "outputs": [
        {
          "output_type": "execute_result",
          "data": {
            "text/plain": [
              "True"
            ]
          },
          "metadata": {},
          "execution_count": 49
        }
      ]
    },
    {
      "cell_type": "code",
      "source": [
        "def hint_username(username):\n",
        "  if len(username) < 3:\n",
        "    print(\"Invalid username. Must be at least 3 characters long\")\n",
        "  elif len(username) > 15:\n",
        "      print(\"Invalid username. Must be at most 15 characters long\")\n",
        "  else:\n",
        "      print(\"Valid username\")\n",
        "\n",
        "hint_username(\"naveenbabu\")"
      ],
      "metadata": {
        "colab": {
          "base_uri": "https://localhost:8080/"
        },
        "id": "iF6dvtBK5afL",
        "outputId": "a5a94f81-f51c-46be-9e25-1ada186794e5"
      },
      "execution_count": null,
      "outputs": [
        {
          "output_type": "stream",
          "name": "stdout",
          "text": [
            "Valid username\n"
          ]
        }
      ]
    },
    {
      "cell_type": "code",
      "source": [
        "class Apple:\n",
        "  pass\n",
        "\n",
        "class Apple:\n",
        "  color = \"\"\n",
        "  flavor = \"\"\n",
        "\n",
        "jonagold = Apple()\n",
        "jonagold.color = \"red\"\n",
        "jonagold.flavor = \"sweeet\"\n",
        "\n",
        "print(jonagold.color)\n",
        "print(jonagold.flavor)\n",
        "\n",
        "print(jonagold.color.upper())\n",
        "\n",
        "jonagold = Apple()\n",
        "jonagold.color = \"Yellow\"\n",
        "jonagold.flavor = \"Soft\"\n",
        "\n",
        "print(jonagold.color.lower())\n",
        "print(jonagold.flavor.upper())"
      ],
      "metadata": {
        "colab": {
          "base_uri": "https://localhost:8080/"
        },
        "id": "sfIVS5DdZ24U",
        "outputId": "2ead86f8-0d2a-4b7c-8022-a99cc31fad85"
      },
      "execution_count": null,
      "outputs": [
        {
          "output_type": "stream",
          "name": "stdout",
          "text": [
            "red\n",
            "sweeet\n",
            "RED\n",
            "yellow\n",
            "SOFT\n"
          ]
        }
      ]
    },
    {
      "cell_type": "code",
      "source": [
        "class Piglet:\n",
        "  def speak(self):\n",
        "    print(\"oink oink\")\n",
        "\n",
        "hamlet = Piglet()\n",
        "hamlet.speak()"
      ],
      "metadata": {
        "colab": {
          "base_uri": "https://localhost:8080/"
        },
        "id": "uY42f5r6h6C0",
        "outputId": "20e55886-26f8-4906-cbce-a5e37ec9d157"
      },
      "execution_count": null,
      "outputs": [
        {
          "output_type": "stream",
          "name": "stdout",
          "text": [
            "oink oink\n"
          ]
        }
      ]
    },
    {
      "cell_type": "code",
      "source": [
        "class Piglet:\n",
        "  name = \"piglet\"\n",
        "  def speak(self):\n",
        "    print(\"Oink! I'm {}! Oink!\".format(self.name))\n",
        "\n",
        "hamlet = Piglet()\n",
        "hamlet.name = \"Hamlet\"\n",
        "hamlet.speak()\n",
        "\n",
        "petunia = Piglet()\n",
        "petunia.name = \"Petunia\"\n",
        "petunia.speak()"
      ],
      "metadata": {
        "colab": {
          "base_uri": "https://localhost:8080/"
        },
        "id": "ex6yJD33iiKd",
        "outputId": "9b1e65a9-05f7-4a5a-da46-61c294734353"
      },
      "execution_count": null,
      "outputs": [
        {
          "output_type": "stream",
          "name": "stdout",
          "text": [
            "Oink! I'm Hamlet! Oink!\n",
            "Oink! I'm Petunia! Oink!\n"
          ]
        }
      ]
    },
    {
      "cell_type": "code",
      "source": [
        "class Piglet:\n",
        "  years = 0\n",
        "  def pig_years(self):\n",
        "    return self.years * 18\n",
        "\n",
        "piggy = Piglet()\n",
        "print(piggy.pig_years())\n",
        "\n",
        "piggy.years = 2\n",
        "print(piggy.pig_years())"
      ],
      "metadata": {
        "colab": {
          "base_uri": "https://localhost:8080/"
        },
        "id": "bn_UNhwYkvKi",
        "outputId": "87871659-d7a4-4b47-ce3d-3937a441fdbb"
      },
      "execution_count": null,
      "outputs": [
        {
          "output_type": "stream",
          "name": "stdout",
          "text": [
            "0\n",
            "36\n"
          ]
        }
      ]
    },
    {
      "cell_type": "code",
      "source": [
        "class Apple:\n",
        "  def __init__(self, color, flavor):\n",
        "    self.color = color\n",
        "    self.flavor = flavor\n",
        "\n",
        "jonagold = Apple(\"red\", \"sweet\")\n",
        "print(jonagold.color)\n",
        "print(jonagold.flavor)\n",
        "\n",
        "print(jonagold)"
      ],
      "metadata": {
        "colab": {
          "base_uri": "https://localhost:8080/"
        },
        "id": "4uzQkAIikuhK",
        "outputId": "6ee7e7db-8620-4634-ac0f-0d6d84e79bab"
      },
      "execution_count": null,
      "outputs": [
        {
          "output_type": "stream",
          "name": "stdout",
          "text": [
            "red\n",
            "sweet\n",
            "<__main__.Apple object at 0x7ecdb4167910>\n"
          ]
        }
      ]
    },
    {
      "cell_type": "code",
      "source": [
        "class Apple:\n",
        "  def __init__(self, color, flavor):\n",
        "    self.color = color\n",
        "    self.flavor = flavor\n",
        "  def __str__(self):\n",
        "    return \"This apple is {} and its flavor is {}\".format(self.color, self.flavor)\n",
        "\n",
        "jonagold = Apple(\"red\", \"sweeet\")\n",
        "print(jonagold)"
      ],
      "metadata": {
        "colab": {
          "base_uri": "https://localhost:8080/"
        },
        "id": "TL0kBDMdmsQU",
        "outputId": "695f3157-60c1-42ff-9097-85fc12282be6"
      },
      "execution_count": null,
      "outputs": [
        {
          "output_type": "stream",
          "name": "stdout",
          "text": [
            "This apple is red and its flavor is sweeet\n"
          ]
        }
      ]
    },
    {
      "cell_type": "code",
      "source": [
        "class Apple:\n",
        "  def __init__(self, color, flavor):\n",
        "    self.color = color\n",
        "    self.flavor = flavor\n",
        "  def __str__(self):\n",
        "    return \"This apple is {} and its flavor is {}\".format(self.color, self.flavor)\n",
        "\n",
        "help(Apple)"
      ],
      "metadata": {
        "colab": {
          "base_uri": "https://localhost:8080/"
        },
        "id": "rbLLDPefnpAU",
        "outputId": "a26e2c4f-8bb7-4681-fe20-89aed80875e7"
      },
      "execution_count": null,
      "outputs": [
        {
          "output_type": "stream",
          "name": "stdout",
          "text": [
            "Help on class Apple in module __main__:\n",
            "\n",
            "class Apple(builtins.object)\n",
            " |  Apple(color, flavor)\n",
            " |  \n",
            " |  Methods defined here:\n",
            " |  \n",
            " |  __init__(self, color, flavor)\n",
            " |      Initialize self.  See help(type(self)) for accurate signature.\n",
            " |  \n",
            " |  __str__(self)\n",
            " |      Return str(self).\n",
            " |  \n",
            " |  ----------------------------------------------------------------------\n",
            " |  Data descriptors defined here:\n",
            " |  \n",
            " |  __dict__\n",
            " |      dictionary for instance variables\n",
            " |  \n",
            " |  __weakref__\n",
            " |      list of weak references to the object\n",
            "\n"
          ]
        }
      ]
    },
    {
      "cell_type": "code",
      "source": [
        "def to_seconds(hours, minutes, seconds):\n",
        "  \"\"\"Returns the amount of seconds in the given hours, minutes and seconds.\"\"\"\n",
        "  return hours * 3600 + minutes * 60 + seconds\n",
        "\n",
        "help(to_seconds)"
      ],
      "metadata": {
        "colab": {
          "base_uri": "https://localhost:8080/"
        },
        "id": "e65X3awJor0I",
        "outputId": "f8ba0a37-80c2-4291-de7b-fa59d8a59e26"
      },
      "execution_count": null,
      "outputs": [
        {
          "output_type": "stream",
          "name": "stdout",
          "text": [
            "Help on function to_seconds in module __main__:\n",
            "\n",
            "to_seconds(hours, minutes, seconds)\n",
            "    Returns the amount of seconds in the given hours, minutes and seconds.\n",
            "\n"
          ]
        }
      ]
    },
    {
      "cell_type": "code",
      "source": [
        "class Piglet:\n",
        "  \"\"\"Represents a piglet that can say their name.\"\"\"\n",
        "  years = 0\n",
        "  name = \"\"\n",
        "  def speak(self):\n",
        "    \"\"\"Outputs a message including the name of the piglet.\"\"\"\n",
        "    print(\"Oink! I'm {}! Oink!\".format(self.name))\n",
        "  def pig_years(self):\n",
        "    \"\"\"Converts the curent age equivalent pig years.\"\"\"\n",
        "    return self.years * 18\n",
        "jonagold = Piglet()\n",
        "jonagold.name = \"piglet\"\n",
        "jonagold.years = 2\n",
        "jonagold.speak()\n",
        "print(\"{} is {} years old in pig years\".format(jonagold.name, jonagold.pig_years()))\n"
      ],
      "metadata": {
        "colab": {
          "base_uri": "https://localhost:8080/"
        },
        "id": "ykG_akVupbpc",
        "outputId": "20e59ef7-e567-4e25-9aab-f347b2c4061b"
      },
      "execution_count": null,
      "outputs": [
        {
          "output_type": "stream",
          "name": "stdout",
          "text": [
            "Oink! I'm piglet! Oink!\n",
            "piglet is 36 years old in pig years\n"
          ]
        }
      ]
    },
    {
      "cell_type": "code",
      "source": [
        "class Fruit:\n",
        "  def __init__(self, color, flavor):\n",
        "    self.color = color\n",
        "    self.flavor = flavor\n",
        "\n",
        "class Apple(Fruit):\n",
        "  pass\n",
        "\n",
        "class Grape(Fruit):\n",
        "  pass\n",
        "\n",
        "granny_smith = Apple(\"green\", \"tart\")\n",
        "carnelian = Grape(\"purple\", \"sweet\")\n",
        "print(granny_smith.flavor)\n",
        "print(carnelian.color)"
      ],
      "metadata": {
        "colab": {
          "base_uri": "https://localhost:8080/"
        },
        "id": "TD109iwCtb1x",
        "outputId": "a7d662d9-b3ee-4f8b-ae29-54b190c10d88"
      },
      "execution_count": null,
      "outputs": [
        {
          "output_type": "stream",
          "name": "stdout",
          "text": [
            "tart\n",
            "purple\n"
          ]
        }
      ]
    },
    {
      "cell_type": "code",
      "source": [
        "class Animal:\n",
        "  sound = \"\"\n",
        "  def __init__(self, name):\n",
        "    self.name = name\n",
        "  def speak(self):\n",
        "    print(\"{sound} I'm {name}! {sound}\".format(name=self.name, sound=self.sound))\n",
        "\n",
        "class Piglet(Animal):\n",
        "  sound = \"Oink!\"\n",
        "\n",
        "hamlet = Piglet(\"Hamlet\")\n",
        "hamlet.speak()\n",
        "\n",
        "class Cow(Animal):\n",
        "  sound = \"Mooooo\"\n",
        "\n",
        "milky = Cow(\"Milky White\")\n",
        "milky.speak()\n",
        "\n",
        "class dog(Animal):\n",
        "  sound = \"Boww\"\n",
        "\n",
        "doggy = dog(\"doggy\")\n",
        "doggy.speak()\n"
      ],
      "metadata": {
        "colab": {
          "base_uri": "https://localhost:8080/"
        },
        "id": "rH0cPdvcucf2",
        "outputId": "8f266b12-090c-467d-c99a-6bc5f2275007"
      },
      "execution_count": null,
      "outputs": [
        {
          "output_type": "stream",
          "name": "stdout",
          "text": [
            "Oink! I'm Hamlet! Oink!\n",
            "Mooooo I'm Milky White! Mooooo\n",
            "Boww I'm doggy! Boww\n"
          ]
        }
      ]
    },
    {
      "cell_type": "code",
      "source": [
        "class Repository:\n",
        "  def __init__(self):\n",
        "    self.packages = {}\n",
        "  def add_package(self, package):\n",
        "    self.packages[package.name] = package\n",
        "  def total_size(self):\n",
        "    result = 0\n",
        "    for package in self.package.values():\n",
        "      result += package.size\n",
        "    return result\n"
      ],
      "metadata": {
        "id": "5QrYgq5_BswN"
      },
      "execution_count": null,
      "outputs": []
    },
    {
      "cell_type": "code",
      "source": [
        "import random\n",
        "random.randint(1,10)\n",
        "\n",
        "random.randint(1,10)\n",
        "\n",
        "random.randint(1,10)"
      ],
      "metadata": {
        "colab": {
          "base_uri": "https://localhost:8080/"
        },
        "id": "ckNj1Y_3EjfY",
        "outputId": "1b6143c1-3f61-430c-b429-30a7893140b9"
      },
      "execution_count": null,
      "outputs": [
        {
          "output_type": "execute_result",
          "data": {
            "text/plain": [
              "5"
            ]
          },
          "metadata": {},
          "execution_count": 28
        }
      ]
    },
    {
      "cell_type": "code",
      "source": [
        "import datetime\n",
        "now = datetime.datetime.now()\n",
        "type(now)\n",
        "print(now)\n",
        "now.year\n",
        "print(now + datetime.timedelta(days=28))"
      ],
      "metadata": {
        "colab": {
          "base_uri": "https://localhost:8080/"
        },
        "id": "as-yrI4fE4hO",
        "outputId": "a0e9a4db-0d28-4c5c-848c-e52b5a7e0fba"
      },
      "execution_count": null,
      "outputs": [
        {
          "output_type": "stream",
          "name": "stdout",
          "text": [
            "2025-07-20 09:07:05.771730\n",
            "2025-08-17 09:07:05.771730\n"
          ]
        }
      ]
    },
    {
      "cell_type": "code",
      "source": [
        "name = \"Sasha\"\n",
        "color = 'gold'\n",
        "place = \"cambridge\"\n",
        "\n",
        "pet = \"\"\n",
        "pet = \"looooooooooooooooooooooooooooooong cat\"\n",
        "print(\"Name: \" + name + \", Favorite color: \" + color)\n",
        "len(pet)"
      ],
      "metadata": {
        "colab": {
          "base_uri": "https://localhost:8080/"
        },
        "id": "rvEgNm2WF4gp",
        "outputId": "86af3954-e924-4044-9d30-9d9639ec9f23"
      },
      "execution_count": null,
      "outputs": [
        {
          "output_type": "stream",
          "name": "stdout",
          "text": [
            "Name: Sasha, Favorite color: gold\n"
          ]
        },
        {
          "output_type": "execute_result",
          "data": {
            "text/plain": [
              "38"
            ]
          },
          "metadata": {},
          "execution_count": 39
        }
      ]
    },
    {
      "cell_type": "code",
      "source": [
        "pets = \"Cats & Dogs\"\n",
        "pets.index(\"&\")\n",
        "pets.index(\"C\")\n",
        "pets.index(\"s\")\n",
        "\"Dragons\" in pets\n",
        "\"Cats\" in pets"
      ],
      "metadata": {
        "colab": {
          "base_uri": "https://localhost:8080/"
        },
        "id": "bvTi6NY3J5us",
        "outputId": "a228245c-f036-4893-ee24-26d4f051fd3d"
      },
      "execution_count": null,
      "outputs": [
        {
          "output_type": "execute_result",
          "data": {
            "text/plain": [
              "True"
            ]
          },
          "metadata": {},
          "execution_count": 46
        }
      ]
    },
    {
      "cell_type": "code",
      "source": [
        "def replace_domain(email, old_domain, new_domain):\n",
        "  if \"@\" + old_domain in email:\n",
        "    index = email.index(\"@\" + old_domain)\n",
        "    new_email = email[:index] + \"@\" + new_domain\n",
        "    return new_email\n",
        "  return email"
      ],
      "metadata": {
        "id": "TVkkX19rLOzH"
      },
      "execution_count": null,
      "outputs": []
    },
    {
      "cell_type": "code",
      "source": [
        "\"Mountains\".upper()\n",
        "\"Mountains\".lower()"
      ],
      "metadata": {
        "colab": {
          "base_uri": "https://localhost:8080/",
          "height": 35
        },
        "id": "vkvgodggMWop",
        "outputId": "2c307522-f514-492f-e52a-5e0cb7f8d92d"
      },
      "execution_count": null,
      "outputs": [
        {
          "output_type": "execute_result",
          "data": {
            "text/plain": [
              "'mountains'"
            ],
            "application/vnd.google.colaboratory.intrinsic+json": {
              "type": "string"
            }
          },
          "metadata": {},
          "execution_count": 49
        }
      ]
    },
    {
      "cell_type": "code",
      "source": [
        "answer = \"yes\"\n",
        "if answer == \"yes\":\n",
        "  print(\"You got it right!\")"
      ],
      "metadata": {
        "colab": {
          "base_uri": "https://localhost:8080/"
        },
        "id": "9z37ZBrwMsDk",
        "outputId": "e3152721-a919-4099-9cc6-9e513501c2e0"
      },
      "execution_count": null,
      "outputs": [
        {
          "output_type": "stream",
          "name": "stdout",
          "text": [
            "You got it right!\n"
          ]
        }
      ]
    },
    {
      "cell_type": "code",
      "source": [
        "\"yes \".strip()"
      ],
      "metadata": {
        "colab": {
          "base_uri": "https://localhost:8080/",
          "height": 35
        },
        "id": "7Veh6M_zM3_E",
        "outputId": "3d5931b1-71a8-4da9-e7d2-4f01e4a1a565"
      },
      "execution_count": null,
      "outputs": [
        {
          "output_type": "execute_result",
          "data": {
            "text/plain": [
              "'yes'"
            ],
            "application/vnd.google.colaboratory.intrinsic+json": {
              "type": "string"
            }
          },
          "metadata": {},
          "execution_count": 51
        }
      ]
    },
    {
      "cell_type": "code",
      "source": [
        "\" yes \".lstrip()"
      ],
      "metadata": {
        "colab": {
          "base_uri": "https://localhost:8080/",
          "height": 35
        },
        "id": "L4OyX98rNBMi",
        "outputId": "cc6f3058-527a-4a79-d924-34cfe4819c1d"
      },
      "execution_count": null,
      "outputs": [
        {
          "output_type": "execute_result",
          "data": {
            "text/plain": [
              "'yes '"
            ],
            "application/vnd.google.colaboratory.intrinsic+json": {
              "type": "string"
            }
          },
          "metadata": {},
          "execution_count": 52
        }
      ]
    },
    {
      "cell_type": "code",
      "source": [
        "\" yes \".rstrip()"
      ],
      "metadata": {
        "colab": {
          "base_uri": "https://localhost:8080/",
          "height": 35
        },
        "id": "dA76wSFLNG2t",
        "outputId": "4e245385-5a57-4488-e1c5-9e335497f608"
      },
      "execution_count": null,
      "outputs": [
        {
          "output_type": "execute_result",
          "data": {
            "text/plain": [
              "' yes'"
            ],
            "application/vnd.google.colaboratory.intrinsic+json": {
              "type": "string"
            }
          },
          "metadata": {},
          "execution_count": 53
        }
      ]
    },
    {
      "cell_type": "code",
      "source": [
        "\"The number of times e occurs in this string is 4\".count(\"e\")"
      ],
      "metadata": {
        "colab": {
          "base_uri": "https://localhost:8080/"
        },
        "id": "Ea93VEN3NUZV",
        "outputId": "24fe823e-1c36-4914-b7e3-1c6f62d58e49"
      },
      "execution_count": null,
      "outputs": [
        {
          "output_type": "execute_result",
          "data": {
            "text/plain": [
              "4"
            ]
          },
          "metadata": {},
          "execution_count": 54
        }
      ]
    },
    {
      "cell_type": "code",
      "source": [
        "\"Forest\".endswith(\"rest\")"
      ],
      "metadata": {
        "colab": {
          "base_uri": "https://localhost:8080/"
        },
        "id": "yxR-7JaoNXea",
        "outputId": "91651c15-24df-4ba5-c301-1421bf5527ee"
      },
      "execution_count": null,
      "outputs": [
        {
          "output_type": "execute_result",
          "data": {
            "text/plain": [
              "True"
            ]
          },
          "metadata": {},
          "execution_count": 55
        }
      ]
    },
    {
      "cell_type": "code",
      "source": [
        "\"Forest\".isnumeric()"
      ],
      "metadata": {
        "colab": {
          "base_uri": "https://localhost:8080/"
        },
        "id": "_UHeX9_LNeHE",
        "outputId": "1137dc0a-e418-40a3-85b1-c0069cf7d6d4"
      },
      "execution_count": null,
      "outputs": [
        {
          "output_type": "execute_result",
          "data": {
            "text/plain": [
              "False"
            ]
          },
          "metadata": {},
          "execution_count": 56
        }
      ]
    },
    {
      "cell_type": "code",
      "source": [
        "\"12345\".isnumeric()"
      ],
      "metadata": {
        "colab": {
          "base_uri": "https://localhost:8080/"
        },
        "id": "FySQJIvnNlf9",
        "outputId": "0f7a3cab-b103-4e0a-ec57-08f53aa7b5f5"
      },
      "execution_count": null,
      "outputs": [
        {
          "output_type": "execute_result",
          "data": {
            "text/plain": [
              "True"
            ]
          },
          "metadata": {},
          "execution_count": 57
        }
      ]
    },
    {
      "cell_type": "code",
      "source": [
        "int(\"12345\") + int(\"54321\")"
      ],
      "metadata": {
        "colab": {
          "base_uri": "https://localhost:8080/"
        },
        "id": "BFQV6BgANtos",
        "outputId": "761283cc-7892-4a75-aca5-c4cc92605b12"
      },
      "execution_count": null,
      "outputs": [
        {
          "output_type": "execute_result",
          "data": {
            "text/plain": [
              "66666"
            ]
          },
          "metadata": {},
          "execution_count": 58
        }
      ]
    },
    {
      "cell_type": "code",
      "source": [
        "\" \".join([\"This\", \"is\", \"a\", \"phase\", \"joined\", \"by\", \"spaces\"])"
      ],
      "metadata": {
        "colab": {
          "base_uri": "https://localhost:8080/",
          "height": 35
        },
        "id": "SKNYyL8JN7Ir",
        "outputId": "5554f761-65ee-4cf2-9ed9-6ebd495c093a"
      },
      "execution_count": null,
      "outputs": [
        {
          "output_type": "execute_result",
          "data": {
            "text/plain": [
              "'This is a phase joined by spaces'"
            ],
            "application/vnd.google.colaboratory.intrinsic+json": {
              "type": "string"
            }
          },
          "metadata": {},
          "execution_count": 59
        }
      ]
    },
    {
      "cell_type": "code",
      "source": [
        "\"....\".join([\"This\", \"is\", \"a\", \"phrase\", \"joined\", \"by\", \"triple\", \"dots\"])"
      ],
      "metadata": {
        "colab": {
          "base_uri": "https://localhost:8080/",
          "height": 35
        },
        "id": "ti6ZAwj7OQ5N",
        "outputId": "92186823-a3e6-4c0a-ea94-a4244ad5ec7c"
      },
      "execution_count": null,
      "outputs": [
        {
          "output_type": "execute_result",
          "data": {
            "text/plain": [
              "'This....is....a....phrase....joined....by....triple....dots'"
            ],
            "application/vnd.google.colaboratory.intrinsic+json": {
              "type": "string"
            }
          },
          "metadata": {},
          "execution_count": 60
        }
      ]
    },
    {
      "cell_type": "code",
      "source": [
        "total = 0\n",
        "for i in range(1,5):\n",
        "  total += i\n",
        "print(total)"
      ],
      "metadata": {
        "colab": {
          "base_uri": "https://localhost:8080/"
        },
        "id": "uKYmXeBaPdon",
        "outputId": "783f71cc-fce1-4d3a-d0e2-289a2726e15d"
      },
      "execution_count": null,
      "outputs": [
        {
          "output_type": "stream",
          "name": "stdout",
          "text": [
            "10\n"
          ]
        }
      ]
    },
    {
      "cell_type": "code",
      "source": [
        "\"This is another example\".split()"
      ],
      "metadata": {
        "colab": {
          "base_uri": "https://localhost:8080/"
        },
        "id": "utvPo92fVQmX",
        "outputId": "9c44c21b-a3a7-43d5-9f4e-5c21cd5b4655"
      },
      "execution_count": null,
      "outputs": [
        {
          "output_type": "execute_result",
          "data": {
            "text/plain": [
              "['This', 'is', 'another', 'example']"
            ]
          },
          "metadata": {},
          "execution_count": 62
        }
      ]
    },
    {
      "cell_type": "code",
      "source": [
        "x = \"i love programming!\"\n",
        "print(x.title())"
      ],
      "metadata": {
        "colab": {
          "base_uri": "https://localhost:8080/"
        },
        "id": "A0AYIhHdoH0c",
        "outputId": "9eca1e62-a62a-4d23-9e3a-b33a68fc88b1"
      },
      "execution_count": null,
      "outputs": [
        {
          "output_type": "stream",
          "name": "stdout",
          "text": [
            "I Love Programming!\n"
          ]
        }
      ]
    },
    {
      "cell_type": "code",
      "source": [
        "name = \"Manny\"\n",
        "number = len(name) * 3\n",
        "print(\"Hello {}, your lucky number is {}\".format(name, number))\n",
        "print(\"Hello {name}, Your lucky number is {number}\".format(name=name, number=len(name)*3))"
      ],
      "metadata": {
        "colab": {
          "base_uri": "https://localhost:8080/"
        },
        "id": "CniFTcUsgmpC",
        "outputId": "f6654029-24bc-43f3-8718-1159d90c93d9"
      },
      "execution_count": null,
      "outputs": [
        {
          "output_type": "stream",
          "name": "stdout",
          "text": [
            "Hello Manny, your lucky number is 15\n",
            "Hello Manny, Your lucky number is 15\n"
          ]
        }
      ]
    },
    {
      "cell_type": "code",
      "source": [
        "price = 7.5\n",
        "with_tax = price * 1.09\n",
        "print(price, with_tax)\n",
        "print(\"Base price: ${:.2f}, with tax: ${:.2f}.format(price, with_tax)\")"
      ],
      "metadata": {
        "colab": {
          "base_uri": "https://localhost:8080/"
        },
        "id": "y61ytxwshyH7",
        "outputId": "81d11246-29ec-4784-d67f-8980659c8006"
      },
      "execution_count": null,
      "outputs": [
        {
          "output_type": "stream",
          "name": "stdout",
          "text": [
            "7.5 8.175\n",
            "Base price: ${:.2f}, with tax: ${:.2f}.format(price, with_tax)\n"
          ]
        }
      ]
    },
    {
      "cell_type": "code",
      "source": [
        "def to_celsius(x):\n",
        "  return (x-32)*5/9\n",
        "\n",
        "for x in range(0, 101, 10):\n",
        "  print(\"{:>3} F | {:>6.2f} C\".format(x, to_celsius(x)))"
      ],
      "metadata": {
        "colab": {
          "base_uri": "https://localhost:8080/"
        },
        "id": "kA7pv6Hmi4QJ",
        "outputId": "c5b19ba9-3941-4848-a237-a71b2880930a"
      },
      "execution_count": null,
      "outputs": [
        {
          "output_type": "stream",
          "name": "stdout",
          "text": [
            "  0 F | -17.78 C\n",
            " 10 F | -12.22 C\n",
            " 20 F |  -6.67 C\n",
            " 30 F |  -1.11 C\n",
            " 40 F |   4.44 C\n",
            " 50 F |  10.00 C\n",
            " 60 F |  15.56 C\n",
            " 70 F |  21.11 C\n",
            " 80 F |  26.67 C\n",
            " 90 F |  32.22 C\n",
            "100 F |  37.78 C\n"
          ]
        }
      ]
    },
    {
      "cell_type": "code",
      "source": [
        "x = [\"Now\", \"we\", \"are\", \"cooking!\"]\n",
        "type(x)\n",
        "print(x)\n",
        "len(x)\n",
        "\"are\" in x\n",
        "\"Today\" in x\n",
        "print(x[0])\n",
        "print(x[3])\n",
        "print(x[1:3])\n",
        "x[:2]\n",
        "x[2:]"
      ],
      "metadata": {
        "colab": {
          "base_uri": "https://localhost:8080/"
        },
        "id": "PkJCJ7QejdTd",
        "outputId": "dffe0d8e-262f-4847-cf7c-ba0df12549f3"
      },
      "execution_count": null,
      "outputs": [
        {
          "output_type": "stream",
          "name": "stdout",
          "text": [
            "['Now', 'we', 'are', 'cooking!']\n",
            "Now\n",
            "cooking!\n",
            "['we', 'are']\n"
          ]
        },
        {
          "output_type": "execute_result",
          "data": {
            "text/plain": [
              "['are', 'cooking!']"
            ]
          },
          "metadata": {},
          "execution_count": 19
        }
      ]
    },
    {
      "cell_type": "code",
      "source": [
        "fruits = [\"Pineapple\", \"Banana\", \"Apple\", \"Melon\"]\n",
        "fruits.append(\"Kiwi\")\n",
        "print(fruits)\n",
        "fruits.insert(0, \"Orange\")\n",
        "print(fruits)\n",
        "fruits.insert(25, \"Peach\")\n",
        "print(fruits)\n",
        "fruits.remove(\"Melon\")\n",
        "print(fruits)\n",
        "fruits.pop(3)\n",
        "print(fruits)\n",
        "fruits[2] = \"Strawberry\"\n",
        "print(fruits)"
      ],
      "metadata": {
        "colab": {
          "base_uri": "https://localhost:8080/"
        },
        "id": "xNsp9y4jlHuk",
        "outputId": "95ba7347-ca4c-4437-a166-e9bc02e19947"
      },
      "execution_count": null,
      "outputs": [
        {
          "output_type": "stream",
          "name": "stdout",
          "text": [
            "['Pineapple', 'Banana', 'Apple', 'Melon', 'Kiwi']\n",
            "['Orange', 'Pineapple', 'Banana', 'Apple', 'Melon', 'Kiwi']\n",
            "['Orange', 'Pineapple', 'Banana', 'Apple', 'Melon', 'Kiwi', 'Peach']\n",
            "['Orange', 'Pineapple', 'Banana', 'Apple', 'Kiwi', 'Peach']\n",
            "['Orange', 'Pineapple', 'Banana', 'Kiwi', 'Peach']\n",
            "['Orange', 'Pineapple', 'Strawberry', 'Kiwi', 'Peach']\n"
          ]
        }
      ]
    },
    {
      "cell_type": "code",
      "source": [
        "fullname = ('Grace', 'M', 'Hopper')\n",
        "print(type(fullname))"
      ],
      "metadata": {
        "colab": {
          "base_uri": "https://localhost:8080/"
        },
        "id": "zKXWK1TRoNdM",
        "outputId": "256e72a1-6499-4b07-cd03-ae22c8879163"
      },
      "execution_count": null,
      "outputs": [
        {
          "output_type": "stream",
          "name": "stdout",
          "text": [
            "<class 'tuple'>\n"
          ]
        }
      ]
    },
    {
      "cell_type": "code",
      "source": [
        "def convert_seconds(seconds):\n",
        "  hours = seconds // 3600\n",
        "  minutes = (seconds - hours * 3600) // 60\n",
        "  remaining_seconds = seconds - hours * 3600 - minutes * 60\n",
        "  return hours, minutes, remaining_seconds\n",
        "\n",
        "result = convert_seconds(5000)\n",
        "type(result)\n",
        "print(result)\n",
        "\n",
        "hours, minutes, seconds = result\n",
        "print(hours, minutes, seconds)\n",
        "\n",
        "hours, minutes, seconds = convert_seconds(1000)\n",
        "print(hours, minutes, seconds)"
      ],
      "metadata": {
        "colab": {
          "base_uri": "https://localhost:8080/"
        },
        "id": "0vw0hmBrpGsS",
        "outputId": "af0bd93d-ff51-4c21-8a97-02797c5d742f"
      },
      "execution_count": null,
      "outputs": [
        {
          "output_type": "stream",
          "name": "stdout",
          "text": [
            "(1, 23, 20)\n",
            "1 23 20\n",
            "0 16 40\n"
          ]
        }
      ]
    },
    {
      "cell_type": "code",
      "source": [
        "animals = [\"Lion\", \"Zebra\", \"Dolphin\", \"Money\"]\n",
        "chars = 0\n",
        "for animal in animals:\n",
        "  chars += len(animals)\n",
        "\n",
        "print(\"Total characters: {}, Average length: {}\".format(chars, chars/len(animals)))"
      ],
      "metadata": {
        "colab": {
          "base_uri": "https://localhost:8080/"
        },
        "id": "3oMXW9PAvkFE",
        "outputId": "0e977fd4-19ea-4c8d-aeb3-5587e8ab4318"
      },
      "execution_count": null,
      "outputs": [
        {
          "output_type": "stream",
          "name": "stdout",
          "text": [
            "Total characters: 16, Average length: 4.0\n"
          ]
        }
      ]
    },
    {
      "cell_type": "code",
      "source": [
        "winners = [\"Ashley\", \"Dylan\", \"Reese\"]\n",
        "for index, person in enumerate(winners):\n",
        "  print(\"{} - {}\".format(index + 1, person))"
      ],
      "metadata": {
        "colab": {
          "base_uri": "https://localhost:8080/"
        },
        "id": "nJtvdd8UwfbW",
        "outputId": "8a810045-a48d-40d2-d143-5efbd26357b6"
      },
      "execution_count": null,
      "outputs": [
        {
          "output_type": "stream",
          "name": "stdout",
          "text": [
            "1 - Ashley\n",
            "2 - Dylan\n",
            "3 - Reese\n"
          ]
        }
      ]
    },
    {
      "cell_type": "code",
      "source": [
        "def full_emails(people):\n",
        "  result = []\n",
        "\n",
        "  for email, name in people:\n",
        "    result.append(\"{} <{}>\".format(name, email))\n",
        "  return result\n",
        "\n",
        "print(full_emails([(\"alex@example.com\", \"Alex Diego\"), (\"jay@example.com\", \"Jay Diego\")]))"
      ],
      "metadata": {
        "colab": {
          "base_uri": "https://localhost:8080/"
        },
        "id": "kOf-OIbPxGFg",
        "outputId": "7cc17a2e-646f-458b-c938-51b468f7d720"
      },
      "execution_count": null,
      "outputs": [
        {
          "output_type": "stream",
          "name": "stdout",
          "text": [
            "['Alex Diego <alex@example.com>', 'Jay Diego <jay@example.com>']\n"
          ]
        }
      ]
    },
    {
      "cell_type": "code",
      "source": [
        "multiple = []\n",
        "for x in range(1,11):\n",
        "  multiple.append(x*7)\n",
        "\n",
        "print(multiple)"
      ],
      "metadata": {
        "colab": {
          "base_uri": "https://localhost:8080/"
        },
        "id": "FmVxtq8Qyh-i",
        "outputId": "de849112-d6ed-40fd-e31e-676286cf854c"
      },
      "execution_count": null,
      "outputs": [
        {
          "output_type": "stream",
          "name": "stdout",
          "text": [
            "[7, 14, 21, 28, 35, 42, 49, 56, 63, 70]\n"
          ]
        }
      ]
    },
    {
      "cell_type": "code",
      "source": [
        "def multiple_table(x):\n",
        "  multiple = []\n",
        "  for i in range(1,11):\n",
        "    multiple.append(x*i)\n",
        "  return multiple\n",
        "\n",
        "result = multiple_table(7)\n",
        "print(result)"
      ],
      "metadata": {
        "colab": {
          "base_uri": "https://localhost:8080/"
        },
        "id": "o3PFu1v-yxyF",
        "outputId": "e332b95c-7ade-4edc-e2cb-7221266a14c2"
      },
      "execution_count": null,
      "outputs": [
        {
          "output_type": "stream",
          "name": "stdout",
          "text": [
            "[7, 14, 21, 28, 35, 42, 49, 56, 63, 70]\n"
          ]
        }
      ]
    },
    {
      "cell_type": "code",
      "source": [
        "multiple = [x * 7 for x in range(1,11)]\n",
        "print(multiple)"
      ],
      "metadata": {
        "colab": {
          "base_uri": "https://localhost:8080/"
        },
        "id": "7Mh68uiy0i0I",
        "outputId": "83278fbf-fc28-4101-afeb-0d0f1a75d0b2"
      },
      "execution_count": null,
      "outputs": [
        {
          "output_type": "stream",
          "name": "stdout",
          "text": [
            "[7, 14, 21, 28, 35, 42, 49, 56, 63, 70]\n"
          ]
        }
      ]
    },
    {
      "cell_type": "code",
      "source": [
        "multiple = list(map(lambda x: x*7, range(1,11)))\n",
        "print(multiple)"
      ],
      "metadata": {
        "colab": {
          "base_uri": "https://localhost:8080/"
        },
        "id": "GB9_Gknd0r_g",
        "outputId": "3c311d17-0bdd-4028-f2a0-ac9903eb0207"
      },
      "execution_count": null,
      "outputs": [
        {
          "output_type": "stream",
          "name": "stdout",
          "text": [
            "[7, 14, 21, 28, 35, 42, 49, 56, 63, 70]\n"
          ]
        }
      ]
    },
    {
      "cell_type": "code",
      "source": [
        "languages = [\"Python\", \"Perl\", \"Ruby\", \"Go\", \"Java\", \"C\"]\n",
        "lengths = [len(language) for language in languages]\n",
        "print(lengths)"
      ],
      "metadata": {
        "colab": {
          "base_uri": "https://localhost:8080/"
        },
        "id": "q6eqNmE_1a5c",
        "outputId": "410442aa-ff60-445f-ffcb-79b572682816"
      },
      "execution_count": null,
      "outputs": [
        {
          "output_type": "stream",
          "name": "stdout",
          "text": [
            "[6, 4, 4, 2, 4, 1]\n"
          ]
        }
      ]
    },
    {
      "cell_type": "code",
      "source": [
        "z = [x for x in range(0, 101) if x % 3 == 0]\n",
        "print(z)"
      ],
      "metadata": {
        "colab": {
          "base_uri": "https://localhost:8080/"
        },
        "id": "rSRar5eD159g",
        "outputId": "a6c9533a-bbad-4844-8859-cda8b1ef1424"
      },
      "execution_count": null,
      "outputs": [
        {
          "output_type": "stream",
          "name": "stdout",
          "text": [
            "[0, 3, 6, 9, 12, 15, 18, 21, 24, 27, 30, 33, 36, 39, 42, 45, 48, 51, 54, 57, 60, 63, 66, 69, 72, 75, 78, 81, 84, 87, 90, 93, 96, 99]\n"
          ]
        }
      ]
    },
    {
      "cell_type": "code",
      "source": [
        "x = {}\n",
        "type(x)"
      ],
      "metadata": {
        "colab": {
          "base_uri": "https://localhost:8080/"
        },
        "id": "eY6_93yI23dv",
        "outputId": "4eeff7e2-0531-4922-84c0-3f023685e791"
      },
      "execution_count": null,
      "outputs": [
        {
          "output_type": "execute_result",
          "data": {
            "text/plain": [
              "dict"
            ]
          },
          "metadata": {},
          "execution_count": 52
        }
      ]
    },
    {
      "cell_type": "code",
      "source": [
        "file_counts = {\"jpg\":10, \"txt\":14, \"csv\":2, \"py\":23}\n",
        "print(file_counts)\n",
        "file_counts[\"txt\"]\n",
        "\"jpg\" in file_counts\n",
        "\"html\" in file_counts\n",
        "file_counts[\"cfg\"] = 8\n",
        "print(file_counts)\n",
        "file_counts[\"csv\"] = 17\n",
        "print(file_counts)\n",
        "del file_counts[\"cfg\"]\n",
        "print(file_counts)"
      ],
      "metadata": {
        "colab": {
          "base_uri": "https://localhost:8080/"
        },
        "id": "w61-P81e27si",
        "outputId": "df431a83-734f-487f-8025-2f3c79e98087"
      },
      "execution_count": null,
      "outputs": [
        {
          "output_type": "stream",
          "name": "stdout",
          "text": [
            "{'jpg': 10, 'txt': 14, 'csv': 2, 'py': 23}\n",
            "{'jpg': 10, 'txt': 14, 'csv': 2, 'py': 23, 'cfg': 8}\n",
            "{'jpg': 10, 'txt': 14, 'csv': 17, 'py': 23, 'cfg': 8}\n",
            "{'jpg': 10, 'txt': 14, 'csv': 17, 'py': 23}\n"
          ]
        }
      ]
    },
    {
      "cell_type": "code",
      "source": [
        "file_counts = {\"jpg\":10, \"txt\":14, \"csv\":2, \"py\":23}\n",
        "for extension in file_counts:\n",
        "  print(extension)\n",
        "\n",
        "for ext, amount in file_counts.items():\n",
        "  print(\"There are {} files with the .{} extension\".format(amount, ext))\n",
        "\n",
        "file_counts.keys()\n",
        "file_counts.values()\n",
        "\n",
        "for value in file_counts.values():\n",
        "  print(value)"
      ],
      "metadata": {
        "colab": {
          "base_uri": "https://localhost:8080/"
        },
        "id": "vo9ohq6w3Ude",
        "outputId": "be680b86-d6e7-4598-f9e0-2f5450cd0655"
      },
      "execution_count": null,
      "outputs": [
        {
          "output_type": "stream",
          "name": "stdout",
          "text": [
            "jpg\n",
            "txt\n",
            "csv\n",
            "py\n",
            "There are 10 files with the .jpg extension\n",
            "There are 14 files with the .txt extension\n",
            "There are 2 files with the .csv extension\n",
            "There are 23 files with the .py extension\n",
            "10\n",
            "14\n",
            "2\n",
            "23\n"
          ]
        }
      ]
    },
    {
      "cell_type": "code",
      "source": [
        "from itertools import count\n",
        "def count_letters(text):\n",
        "  result = {}\n",
        "  for letter in text:\n",
        "    if letter not in result:\n",
        "      result[letter] = 0\n",
        "    result[letter] += 1\n",
        "  return result\n",
        "\n",
        "count_letters(\"aaaaa\")\n",
        "count_letters(\"tenant\")\n",
        "count_letters(\"a long string with a lot of letters\")"
      ],
      "metadata": {
        "colab": {
          "base_uri": "https://localhost:8080/"
        },
        "id": "9-EAkhzT5SxG",
        "outputId": "f0991843-7e74-4693-bd4f-9fbd4a3e75f4"
      },
      "execution_count": null,
      "outputs": [
        {
          "output_type": "execute_result",
          "data": {
            "text/plain": [
              "{'a': 2,\n",
              " ' ': 7,\n",
              " 'l': 3,\n",
              " 'o': 3,\n",
              " 'n': 2,\n",
              " 'g': 2,\n",
              " 's': 2,\n",
              " 't': 5,\n",
              " 'r': 2,\n",
              " 'i': 2,\n",
              " 'w': 1,\n",
              " 'h': 1,\n",
              " 'f': 1,\n",
              " 'e': 2}"
            ]
          },
          "metadata": {},
          "execution_count": 69
        }
      ]
    }
  ]
}