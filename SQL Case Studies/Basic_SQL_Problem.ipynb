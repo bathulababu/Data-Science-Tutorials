{
  "nbformat": 4,
  "nbformat_minor": 0,
  "metadata": {
    "colab": {
      "provenance": []
    },
    "kernelspec": {
      "name": "python3",
      "display_name": "Python 3"
    },
    "language_info": {
      "name": "python"
    }
  },
  "cells": [
    {
      "cell_type": "code",
      "source": [
        "# PROBLEM STATEMENT 1 - write a SQL query that will return all the opposites of the values in the Value column. If a number is negative, make it positive and vice versa. For this problem statement, your database table is structured like this:"
      ],
      "metadata": {
        "id": "9nNy78z5-jJ2"
      },
      "execution_count": 52,
      "outputs": []
    },
    {
      "cell_type": "code",
      "source": [
        "# CREATING DATABASE\n",
        "\n",
        "Book = {\n",
        "    'id' : [1, 2, 3, 4, 5],\n",
        "    'Value' : [-56, 76, -84, 96, -47]\n",
        "}\n",
        "\n",
        "import sqlite3\n",
        "\n",
        "conn = sqlite3.connect('test.db')\n",
        "print(\"Opened database successfully\")"
      ],
      "metadata": {
        "colab": {
          "base_uri": "https://localhost:8080/"
        },
        "id": "uLJ8TPqy-8vM",
        "outputId": "dca4090c-5877-4a63-ee54-4c1e289a8ad1"
      },
      "execution_count": 53,
      "outputs": [
        {
          "output_type": "stream",
          "name": "stdout",
          "text": [
            "Opened database successfully\n"
          ]
        }
      ]
    },
    {
      "cell_type": "code",
      "source": [
        "# CREATING TABLE\n",
        "\n",
        "conn.execute('''CREATE TABLE IF NOT EXISTS Book(id INTEGER, Value INTEGER);''')\n",
        "conn.commit()\n",
        "print('Table created successfully');"
      ],
      "metadata": {
        "colab": {
          "base_uri": "https://localhost:8080/"
        },
        "id": "fx7-EqRvAVwD",
        "outputId": "93251717-bbb7-4a93-c0ca-07e71a7cea58"
      },
      "execution_count": 54,
      "outputs": [
        {
          "output_type": "stream",
          "name": "stdout",
          "text": [
            "Table created successfully\n"
          ]
        }
      ]
    },
    {
      "cell_type": "code",
      "source": [
        "# INSERTING VALUES - TABLE SCRIPTS\n",
        "\n",
        "conn.execute('INSERT OR REPLACE INTO Book(id, Value) VALUES(1, -56);')\n",
        "conn.execute('INSERT OR REPLACE INTO Book(id, Value) VALUES(2, 76);')\n",
        "conn.execute('INSERT OR REPLACE INTO Book(id, Value) VALUES(3, -84);')\n",
        "conn.execute('INSERT OR REPLACE INTO Book(id, Value) VALUES(4, 96);')\n",
        "conn.execute('INSERT OR REPLACE INTO Book(id, Value) VALUES(5, -47);')\n",
        "\n",
        "conn.commit()"
      ],
      "metadata": {
        "id": "xNJtXUvHBOgt"
      },
      "execution_count": 55,
      "outputs": []
    },
    {
      "cell_type": "code",
      "source": [
        "# final solution\n",
        "\n",
        "conn = sqlite3.connect('test.db')\n",
        "\n",
        "cursor = conn.execute('''\n",
        "SELECT id, Value,\n",
        "CASE WHEN value < 0 THEN ABS(Value)\n",
        "      WHEN value > 0 THEN -1*Value\n",
        "      ELSE NULL\n",
        "END as opp_value from Book ;''')\n",
        "\n",
        "for row in cursor:\n",
        "  print(row)\n",
        "conn.close()"
      ],
      "metadata": {
        "colab": {
          "base_uri": "https://localhost:8080/"
        },
        "id": "SAFmNkQqDO9T",
        "outputId": "ba176ed1-5eff-4512-d758-8a4b7878969f"
      },
      "execution_count": 56,
      "outputs": [
        {
          "output_type": "stream",
          "name": "stdout",
          "text": [
            "(1, -56, 56)\n",
            "(2, 76, -76)\n",
            "(3, -84, 84)\n",
            "(4, 96, -96)\n",
            "(5, -47, 47)\n",
            "(1, -56, 56)\n",
            "(2, 76, -76)\n",
            "(3, -84, 84)\n",
            "(4, 96, -96)\n",
            "(5, -47, 47)\n"
          ]
        }
      ]
    },
    {
      "cell_type": "code",
      "source": [
        "# PROBLEM STATEMENT 2 - Write a query for this that'll return just the division id's for all the divisions that had positive revenue in 2021. In this Problem statement, your database table is:"
      ],
      "metadata": {
        "id": "WoC8z0zRucUC"
      },
      "execution_count": 57,
      "outputs": []
    },
    {
      "cell_type": "code",
      "source": [
        "# CREATING DATABASE\n",
        "\n",
        "Revenue = {\n",
        "    'Division_id' : [1, 1, 1, 2, 3, 3, 4],\n",
        "    'Year' : [2018, 2021, 2020, 2021, 2018, 2016, 2021],\n",
        "    'Revenue' : [60, 40, 70, -10, 20, 40, 50]\n",
        "}"
      ],
      "metadata": {
        "id": "7RcufBVFvB_M"
      },
      "execution_count": 58,
      "outputs": []
    },
    {
      "cell_type": "code",
      "source": [
        "# CREATING TABLE\n",
        "\n",
        "conn = sqlite3.connect('test.db')\n",
        "conn.execute('''CREATE TABLE IF NOT EXISTS Revenue(Division_id INTEGER, Year INTEGER, Revenue INTEGER);''')\n",
        "conn.commit()\n",
        "print('Table created successfully');"
      ],
      "metadata": {
        "colab": {
          "base_uri": "https://localhost:8080/"
        },
        "id": "UE-_zcYGvjcT",
        "outputId": "c52400ff-b359-4a51-db39-70c3ec55c07c"
      },
      "execution_count": 59,
      "outputs": [
        {
          "output_type": "stream",
          "name": "stdout",
          "text": [
            "Table created successfully\n"
          ]
        }
      ]
    },
    {
      "cell_type": "code",
      "source": [
        "# INSERTING RECORDS - TABLE SCRIPTS\n",
        "\n",
        "conn.execute('INSERT OR REPLACE INTO Revenue(Division_id,Year,Revenue) VALUES(1,2018,60);')\n",
        "conn.execute('INSERT OR REPLACE INTO Revenue(Division_id,Year,Revenue) VALUES(1,2021,40);')\n",
        "conn.execute('INSERT OR REPLACE INTO Revenue(Division_id,Year,Revenue) VALUES(1,2020,70);')\n",
        "conn.execute('INSERT OR REPLACE INTO Revenue(Division_id,Year,Revenue) VALUES(2,2021,-10);')\n",
        "conn.execute('INSERT OR REPLACE INTO Revenue(Division_id,Year,Revenue) VALUES(3,2018,20);')\n",
        "conn.execute('INSERT OR REPLACE INTO Revenue(Division_id,Year,Revenue) VALUES(3,2016,40);')\n",
        "conn.execute('INSERT OR REPLACE INTO Revenue(Division_id,Year,Revenue) VALUES(4,2021,50);')\n",
        "\n",
        "conn.commit()"
      ],
      "metadata": {
        "id": "3Wkg3GwRwXFy"
      },
      "execution_count": 60,
      "outputs": []
    },
    {
      "cell_type": "code",
      "source": [
        "# final solution\n",
        "\n",
        "conn = sqlite3.connect('test.db')\n",
        "\n",
        "cursor = conn.execute('''\n",
        "SELECT Division_id from Revenue WHERE Year = 2021 AND Revenue > 0;''')\n",
        "\n",
        "for row in cursor:\n",
        "  print(row)"
      ],
      "metadata": {
        "colab": {
          "base_uri": "https://localhost:8080/"
        },
        "id": "fhyZuGu6xEdV",
        "outputId": "c1be1747-4acb-4a3f-f7d4-3201b6ac6fac"
      },
      "execution_count": 61,
      "outputs": [
        {
          "output_type": "stream",
          "name": "stdout",
          "text": [
            "(1,)\n",
            "(4,)\n",
            "(1,)\n",
            "(4,)\n"
          ]
        }
      ]
    },
    {
      "cell_type": "code",
      "source": [
        "# PROBLEM STATEMENT 3 - Find the century for the year: Write a query that'll return the century that the year is in. In this challenge, your database table looks like this:"
      ],
      "metadata": {
        "id": "wEPo7GLGH_gA"
      },
      "execution_count": 62,
      "outputs": []
    },
    {
      "cell_type": "code",
      "source": [
        "# CREATING DATABASE\n",
        "\n",
        "Century_Year = {\n",
        "    'id' : [1, 2, 3, 4, 5],\n",
        "    'Year' : [1776, 2001, 1643, 1865, 1969]\n",
        "}"
      ],
      "metadata": {
        "id": "9utMOfHzIZmm"
      },
      "execution_count": 63,
      "outputs": []
    },
    {
      "cell_type": "code",
      "source": [
        "# TABLE CREATION\n",
        "\n",
        "conn.execute('''CREATE TABLE IF NOT EXISTS Century_Year(id INTEGER, Year INTEGER);''')\n",
        "conn.commit()\n",
        "print('Table created successfully');"
      ],
      "metadata": {
        "colab": {
          "base_uri": "https://localhost:8080/"
        },
        "id": "kWRZmDMnIm3q",
        "outputId": "2c4b9a81-5d38-4931-a878-e96d8bf9a824"
      },
      "execution_count": 64,
      "outputs": [
        {
          "output_type": "stream",
          "name": "stdout",
          "text": [
            "Table created successfully\n"
          ]
        }
      ]
    },
    {
      "cell_type": "code",
      "source": [
        "# INSERTING RECORDS\n",
        "\n",
        "conn.execute('INSERT INTO Century_year(id, Year) VALUES(1, 1776);')\n",
        "conn.execute('INSERT INTO Century_year(id, Year) VALUES(2, 2001);')\n",
        "conn.execute('INSERT INTO Century_year(id, Year) VALUES(3, 1643);')\n",
        "conn.execute('INSERT INTO Century_year(id, Year) VALUES(4, 1865);')\n",
        "conn.execute('INSERT INTO Century_year(id, Year) VALUES(5, 1969);')\n",
        "\n",
        "conn.commit()"
      ],
      "metadata": {
        "id": "WsWN6Ac7I5Q4"
      },
      "execution_count": 65,
      "outputs": []
    },
    {
      "cell_type": "code",
      "source": [
        "# Final Solution\n",
        "\n",
        "conn = sqlite3.connect('test.db')\n",
        "\n",
        "cursor = conn.execute('''\n",
        "SELECT SUBSTR(Year,1,2)+1 AS century\n",
        "FROM Century_Year ''')\n",
        "\n",
        "for row in cursor:\n",
        "  print(row)\n",
        "conn.close()"
      ],
      "metadata": {
        "colab": {
          "base_uri": "https://localhost:8080/"
        },
        "id": "9u9gW0o4KCZP",
        "outputId": "6836e862-de32-47cb-dab0-83be8987808c"
      },
      "execution_count": 66,
      "outputs": [
        {
          "output_type": "stream",
          "name": "stdout",
          "text": [
            "(18,)\n",
            "(21,)\n",
            "(17,)\n",
            "(19,)\n",
            "(20,)\n",
            "(18,)\n",
            "(21,)\n",
            "(17,)\n",
            "(19,)\n",
            "(20,)\n"
          ]
        }
      ]
    },
    {
      "cell_type": "code",
      "source": [
        "# PROBLEM STATEMENT 4 - Even or Odd Write a query to return whether or not the number in the value column is even or odd rather than returning the number itself. Here's the database table you'll table you'll use in this this challenge:"
      ],
      "metadata": {
        "id": "TkGRNtXYKoi7"
      },
      "execution_count": 67,
      "outputs": []
    },
    {
      "cell_type": "code",
      "source": [
        "# CREATING DATABASE\n",
        "\n",
        "Even_Odd = {\n",
        "    'id' : [1, 2, 3, 4, 5],\n",
        "    'Value' : [4, 11, 57, 24, 47]\n",
        "}"
      ],
      "metadata": {
        "id": "-hTrYm_fLXkX"
      },
      "execution_count": 68,
      "outputs": []
    },
    {
      "cell_type": "code",
      "source": [
        "# TABLE CREATION\n",
        "\n",
        "conn = sqlite3.connect('test.db')\n",
        "conn.execute('''CREATE TABLE IF NOT EXISTS Even_Odd(id INTEGER, Value INTEGER);''')\n",
        "conn.commit()\n",
        "print('Table created successfully');"
      ],
      "metadata": {
        "colab": {
          "base_uri": "https://localhost:8080/"
        },
        "id": "HViVseTwLmOw",
        "outputId": "f348aa2f-e56e-479b-ba17-bf1c196b29ed"
      },
      "execution_count": 69,
      "outputs": [
        {
          "output_type": "stream",
          "name": "stdout",
          "text": [
            "Table created successfully\n"
          ]
        }
      ]
    },
    {
      "cell_type": "code",
      "source": [
        "conn.execute('INSERT INTO Even_Odd(id, Value) VALUES(1, 4);')\n",
        "conn.execute('INSERT INTO Even_Odd(id, Value) VALUES(2, 11);')\n",
        "conn.execute('INSERT INTO Even_Odd(id, Value) VALUES(3, 57);')\n",
        "conn.execute('INSERT INTO Even_Odd(id, Value) VALUES(4, 24);')\n",
        "conn.execute('INSERT INTO Even_Odd(id, Value) VALUES(5, 47);')\n",
        "\n",
        "conn.commit()"
      ],
      "metadata": {
        "id": "hzUKUZYSL3Ps"
      },
      "execution_count": 70,
      "outputs": []
    },
    {
      "cell_type": "code",
      "source": [
        "# Final Solution\n",
        "conn = sqlite3.connect('test.db')\n",
        "\n",
        "cursor = conn.execute('''\n",
        "SELECT DISTINCT id, Value,\n",
        "CASE WHEN Value%2 == 0 THEN 'Even'\n",
        "WHEN Value%2 != 0 THEN 'Odd'\n",
        "END AS category\n",
        "FROM Even_Odd''')\n",
        "\n",
        "for i in cursor:\n",
        "  print(i)\n",
        "conn.close()"
      ],
      "metadata": {
        "colab": {
          "base_uri": "https://localhost:8080/"
        },
        "id": "KhaKyMPoMCI9",
        "outputId": "73eaec16-d980-4e68-9dac-0a3767e90cc1"
      },
      "execution_count": 71,
      "outputs": [
        {
          "output_type": "stream",
          "name": "stdout",
          "text": [
            "(1, 4, 'Even')\n",
            "(2, 11, 'Odd')\n",
            "(3, 57, 'Odd')\n",
            "(4, 24, 'Even')\n",
            "(5, 47, 'Odd')\n"
          ]
        }
      ]
    },
    {
      "cell_type": "code",
      "source": [
        "# PROBLEM STATEMENT 5 - GROUP BY AGE Write a query that’ll group all the people by their age, along with a count of the people that are the same age. This is the table structure that you’ll use for this SQL challenge:"
      ],
      "metadata": {
        "id": "W-s_rkfANpC8"
      },
      "execution_count": 72,
      "outputs": []
    },
    {
      "cell_type": "code",
      "source": [
        "# CREATE DATABASE\n",
        "\n",
        "age = {\n",
        "    'id' : [1, 2, 3, 4, 5, 6, 7],\n",
        "    'Name' : ['Bob','Sam','Jill', 'Jim', 'Sally','Jess','Will'],\n",
        "    'Age' : [21, 19, 18, 21, 19, 20, 21]\n",
        "}"
      ],
      "metadata": {
        "id": "kcNridz5OIVk"
      },
      "execution_count": 77,
      "outputs": []
    },
    {
      "cell_type": "code",
      "source": [
        "# CREATING TABLE\n",
        "\n",
        "conn = sqlite3.connect('test.db')\n",
        "\n",
        "conn.execute('''CREATE TABLE IF NOT EXISTS age(id INTEGER, Name TEXT, Age INTEGER);''')\n",
        "conn.commit()\n",
        "print('Table created successfully');"
      ],
      "metadata": {
        "colab": {
          "base_uri": "https://localhost:8080/"
        },
        "id": "JXdnF5ruO1sz",
        "outputId": "5faffed0-3a26-4ba4-f8fb-348990801b1b"
      },
      "execution_count": 78,
      "outputs": [
        {
          "output_type": "stream",
          "name": "stdout",
          "text": [
            "Table created successfully\n"
          ]
        }
      ]
    },
    {
      "cell_type": "code",
      "source": [
        "# INSERTING RECORDS\n",
        "\n",
        "conn.execute('INSERT INTO age(id, Name, Age) VALUES(1, \"Bob\", 21);')\n",
        "conn.execute('INSERT INTO age(id, Name, Age) VALUES(2, \"Sam\", 19);')\n",
        "conn.execute('INSERT INTO age(id, Name, Age) VALUES(3, \"Jill\", 18);')\n",
        "conn.execute('INSERT INTO age(id, Name, Age) VALUES(4, \"Jim\", 21);')\n",
        "conn.execute('INSERT INTO age(id, Name, Age) VALUES(5, \"Sally\", 19);')\n",
        "conn.execute('INSERT INTO age(id, Name, Age) VALUES(6, \"Jess\", 20);')\n",
        "conn.execute('INSERT INTO age(id, Name, Age) VALUES(7, \"Will\", 21);')\n",
        "\n",
        "conn.commit()"
      ],
      "metadata": {
        "id": "oJlxmquLPVMN"
      },
      "execution_count": 79,
      "outputs": []
    },
    {
      "cell_type": "code",
      "source": [
        "# Final solution\n",
        "\n",
        "conn = sqlite3.connect('test.db')\n",
        "\n",
        "cursor = conn.execute('''\n",
        "SELECT Age, COUNT(1) AS Count\n",
        "FROM age\n",
        "GROUP BY Age;''')\n",
        "\n",
        "for row in cursor:\n",
        "  print(row)\n",
        "conn.close()"
      ],
      "metadata": {
        "colab": {
          "base_uri": "https://localhost:8080/"
        },
        "id": "N8Y_66oSPkgE",
        "outputId": "6d15c67a-e6ce-4507-b3e4-1b9edcf52344"
      },
      "execution_count": 80,
      "outputs": [
        {
          "output_type": "stream",
          "name": "stdout",
          "text": [
            "(18, 4)\n",
            "(19, 8)\n",
            "(20, 3)\n",
            "(21, 11)\n"
          ]
        }
      ]
    }
  ]
}